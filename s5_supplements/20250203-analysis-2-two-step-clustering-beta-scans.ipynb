{
 "cells": [
  {
   "cell_type": "markdown",
   "id": "c7750e79",
   "metadata": {},
   "source": []
  },
  {
   "cell_type": "code",
   "execution_count": 6,
   "id": "248bf115",
   "metadata": {},
   "outputs": [],
   "source": [
    "import pandas as pd\n",
    "import numpy as np\n",
    "from scipy.stats import pearsonr\n",
    "from scipy.interpolate import griddata\n",
    "import scipy\n",
    "import matplotlib.pyplot as plt\n",
    "from skimage.morphology import square, dilation\n",
    "from skimage import data, util\n",
    "from skimage.measure import label, perimeter\n",
    "\n",
    "from sklearn.preprocessing import StandardScaler\n",
    "from sklearn.decomposition import PCA\n",
    "from sklearn.cluster import KMeans\n",
    "import umap\n",
    "\n",
    "import seaborn as sns\n",
    "import os\n",
    "import re\n",
    "import json\n",
    "import sys\n",
    "import shutil\n",
    "import pickle\n",
    "\n",
    "import pipe_util2\n",
    "import cc3d_util as cu"
   ]
  },
  {
   "cell_type": "code",
   "execution_count": 7,
   "id": "273a46ec",
   "metadata": {},
   "outputs": [
    {
     "name": "stdout",
     "output_type": "stream",
     "text": [
      "1.0.2\n"
     ]
    }
   ],
   "source": [
    "# check scikit-learn version\n",
    "import sklearn\n",
    "print(sklearn.__version__)"
   ]
  },
  {
   "cell_type": "code",
   "execution_count": 8,
   "id": "0a9db822",
   "metadata": {},
   "outputs": [],
   "source": [
    "def counts_from_df_w_mode_col(df, mode_col, scan_param1, scan_param2):\n",
    "    # obtain the modes in order. \n",
    "    # scan_param2 will be the row.\n",
    "    counts_list = []\n",
    "    param1_len = len(df[scan_param1].unique())\n",
    "    param2_len = len(df[scan_param2].unique())\n",
    "    \n",
    "    for a in sorted(df[scan_param1].unique(),reverse=True):\n",
    "        for f in sorted(df[scan_param2].unique()):\n",
    "            local_df = df.loc[(df[scan_param1]==a)&(df[scan_param2]==f)].copy()\n",
    "            counts = [0,0,0]\n",
    "\n",
    "            i = 0\n",
    "            while i<len(local_df[mode_col].value_counts()):\n",
    "                inx = local_df[mode_col].value_counts().index[i]-1\n",
    "                counts[inx] = local_df[mode_col].value_counts().values[i]\n",
    "                i = i+1\n",
    "            counts = np.array(counts)\n",
    "            counts = counts/counts.sum()\n",
    "            counts = np.round(counts, 2)\n",
    "            counts_list.append(counts)\n",
    "    return counts_list, param1_len, param2_len"
   ]
  },
  {
   "cell_type": "code",
   "execution_count": 9,
   "id": "64df3261",
   "metadata": {},
   "outputs": [],
   "source": [
    "def hist_draw(figfolder, counts_list, param1_len, param2_len, name):\n",
    "    \n",
    "    figfolder = pipe_util2.folder_verify(figfolder\n",
    "                                        )\n",
    "    i = 0\n",
    "    height = int(8./param2_len*param1_len)\n",
    "    if height <1:\n",
    "        height = 1\n",
    "    fig = plt.figure(figsize = (8, height),frameon=False)\n",
    "    while i<len(counts_list):\n",
    "\n",
    "        fig.add_subplot(param1_len,param2_len,i+1)\n",
    "        counts = counts_list[i]\n",
    "        \n",
    "        y = 1.\n",
    "        x1 = counts[0]/2.\n",
    "        w1 = counts[0]\n",
    "        x2 = counts[1]/2.+w1\n",
    "        w2 = counts[1]\n",
    "        x3 = counts[2]/2.+w1+w2\n",
    "        w3 = counts[2]\n",
    "        \n",
    "        plt.bar(x1, y, width=w1, color=\"#EA3526\", alpha=0.9)\n",
    "        plt.bar(x2, y, width=w2, color=\"#94FAC4\")\n",
    "        plt.bar(x3, y, width=w3, color=\"#4D51F2\")\n",
    "        \n",
    "        plt.ylim(0,1)\n",
    "        plt.xlim(0,1)\n",
    "\n",
    "        plt.axis(\"off\")\n",
    "\n",
    "        i = i+1\n",
    "        \n",
    "    plt.savefig(figfolder+\"%s.pdf\"%name, dpi = 200, bbox_inches=\"tight\")\n"
   ]
  },
  {
   "cell_type": "code",
   "execution_count": 10,
   "id": "9d1a014f",
   "metadata": {},
   "outputs": [],
   "source": [
    "def geo_cluster(name, data_folder, feature_folder):\n",
    "    \n",
    "    \"\"\"\n",
    "    Collecting geo feature analysis results from simulations.\n",
    "    \"\"\"\n",
    "    \n",
    "    analysis_folder = os.path.dirname(pipe_util2.folder_verify(feature_folder)[:-1])\n",
    "    print(analysis_folder)\n",
    "    \n",
    "    cluster_folder = analysis_folder + \"/\" + name + \"_cluster\"\n",
    "    cluster_folder = pipe_util2.create_folder(cluster_folder)\n",
    "#     print(cluster_folder)\n",
    "    \n",
    "    geo_csvs = pipe_util2.folder_file_num(feature_folder, \".csv\", 1)\n",
    "    df_list = []\n",
    "    \n",
    "    i = 0\n",
    "    while i<len(geo_csvs):\n",
    "        df = pd.read_csv(geo_csvs[i], index_col=0)\n",
    "        df_list.append(df)\n",
    "        i = i+1\n",
    "    geo_df = pd.concat(df_list, ignore_index = True)\n",
    "    \n",
    "    # removing records that don't have matching part.\n",
    "    for r in geo_df.rep_inx.unique():\n",
    "\n",
    "        for i in geo_df.iter_inx.unique():\n",
    "            temp = geo_df.loc[(geo_df.rep_inx==r) & (geo_df.iter_inx==i)].copy()\n",
    "            if temp.shape[0]==1:\n",
    "                print(temp.shape, r, i)\n",
    "                geo_df.drop(temp.index, inplace = True)\n",
    "                \n",
    "    geo_df.to_csv(cluster_folder+\"geo_props.csv\")\n",
    "    \n",
    "    # ------------\n",
    "    \n",
    "    scan_param = np.array(geo_df[\"scan_param\"].str.split(\" \").to_list()).astype(float).astype(int).T\n",
    "    fpp_scan = scan_param[0]\n",
    "    force_scan = scan_param[1]\n",
    "\n",
    "    geo_df[\"fpp_scan\"] = fpp_scan\n",
    "    geo_df[\"force_scan\"] = force_scan \n",
    "    \n",
    "    # geo df for timepoint 270 no selection for columns\n",
    "    geo_270 = geo_df.loc[geo_df.timepoint==270].reset_index(drop=True).copy()\n",
    "\n",
    "    cols = ['s', 'd', 'd_std', 'area_frac', 'area_convex_frac',\n",
    "            'peri', 'peri_convex', \"minor_major_ratio\", 'compact',\n",
    "            'eccentric', 'circular', 'convexity', 'solidity',\n",
    "            'radial_dist_cx_std', 'sphericity', 'radial_dist_cn_mean',\n",
    "           'radial_dist_cn_std']\n",
    "\n",
    "    # geo features for differences\n",
    "    geo_df_270 = geo_df.loc[geo_df.timepoint==270][cols].reset_index(drop=True).copy()\n",
    "    geo_df_90 = geo_df.loc[geo_df.timepoint==90][cols].reset_index(drop=True).copy()\n",
    "\n",
    "    geo_diff_df = geo_df_270.divide(geo_df_90, axis='index').copy()\n",
    "    geo_diff_df['dxy_std'] = geo_df[geo_df.timepoint==270].dxy_std.values\n",
    "    geo_diff_df['dxy_mean'] = geo_df[geo_df.timepoint==270].dxy_mean.values\n",
    "\n",
    "    # step transform data with scaler\n",
    "    scalerfile = \"scaler1.pkl\"\n",
    "    scaler = pickle.load(open(scalerfile, 'rb'))\n",
    "    scaled_geo_diff = pd.DataFrame(scaler.transform(geo_diff_df))\n",
    "    scaled_geo_diff.columns = geo_diff_df.columns\n",
    "    scaled_geo_diff.index = geo_diff_df.index\n",
    "    scaled_geo_diff.to_csv(cluster_folder+\"scaled_geo_diff.csv\")\n",
    "\n",
    "    # step select properties for 1st step clustering\n",
    "    scaled_geo_diff_select = scaled_geo_diff[[\"s\", \"d\",\"d_std\", \n",
    "                                              \"radial_dist_cn_std\",\n",
    "                                              \"radial_dist_cn_mean\",\n",
    "                                              \"dxy_std\"]].copy()\n",
    "    kmeanfile1 = \"./kmean1.pkl\"\n",
    "    kmean_model = pickle.load(open(kmeanfile1, 'rb'))\n",
    "    kmean_geo_diff_select = kmean_model.predict(scaled_geo_diff_select)\n",
    "    geo_270[\"mode1\"] = kmean_geo_diff_select\n",
    "    geo_270[\"mode2\"] = kmean_geo_diff_select\n",
    "\n",
    "    mig_mode_num = 0\n",
    "    nmg_mode_num = 1\n",
    "    geo_270.loc[geo_270[\"mode1\"]==nmg_mode_num,\"mode1\"]=3\n",
    "\n",
    "    # step 2nd clustering\n",
    "    cols2 = [\"d\", \"s\", \"d_std\", \"peri\", 'compact', 'circular',]\n",
    "    scaled_mig_geo_diff_select = scaled_geo_diff[geo_270.mode2==mig_mode_num] # selecting migratory modes\n",
    "    scaled_geo_diff_select = scaled_mig_geo_diff_select[cols2].copy()\n",
    "\n",
    "    embeddingfile = \"umap2.pkl\"\n",
    "    embedding_modle = pickle.load(open(embeddingfile, 'rb'))\n",
    "    embedding = embedding_modle.transform(scaled_mig_geo_diff_select)\n",
    "    embedding = pd.DataFrame(embedding)\n",
    "\n",
    "    kmeanfile2 = \"./kmean2.pkl\"\n",
    "    kmean_model = pickle.load(open(kmeanfile2, 'rb'))\n",
    "    kmean_geo_diff_select = kmean_model.predict(embedding)\n",
    "    geo_270.loc[geo_270[\"mode2\"]==mig_mode_num,\"mode1\"] = kmean_geo_diff_select\n",
    "\n",
    "    rad_mode_num = 0\n",
    "    dir_mode_num = 1\n",
    "    geo_270.loc[geo_270[\"mode1\"]==rad_mode_num,\"mode1\"]=4\n",
    "    geo_270.loc[geo_270[\"mode1\"]==dir_mode_num,\"mode1\"]=5\n",
    "    geo_270['mode1'] = geo_270['mode1']-2\n",
    "    geo_270.to_csv(cluster_folder+\"geo_270.csv\")\n",
    "    \n",
    "    # final: \n",
    "    # 1 - no migration\n",
    "    # 2 - radially migration\n",
    "    # 3 - directional migration\n",
    "    \n",
    "    # --------------------\n",
    "    # plot and save phase graph\n",
    "    counts_list, param1_len, param2_len = counts_from_df_w_mode_col(geo_270, \n",
    "                                                                   \"mode1\", \n",
    "                                                                   \"fpp_scan\", \"force_scan\")\n",
    "    hist_draw(cluster_folder, counts_list, param1_len, param2_len, \"3_migration_phase\")\n",
    "    \n",
    "    return cluster_folder\n"
   ]
  },
  {
   "cell_type": "code",
   "execution_count": null,
   "id": "0ba4f346",
   "metadata": {},
   "outputs": [],
   "source": []
  },
  {
   "cell_type": "code",
   "execution_count": 12,
   "id": "43e316c5",
   "metadata": {
    "scrolled": false
   },
   "outputs": [
    {
     "name": "stdout",
     "output_type": "stream",
     "text": [
      "/net/capricorn/home/xing/huijing/Migration/20250128_Supplements++/20250129-update-msmm-model-analysis\n",
      "/net/capricorn/home/xing/huijing/Migration/20250128_Supplements++/20250129-update-msmm-model-analysis/20250129_b0_3_force_fpp_scan_cluster/ folder is freshly created. \n",
      "\n",
      "/net/capricorn/home/xing/huijing/Migration/20250128_Supplements++/20250129-update-msmm-model-analysis/20250129_b0_3_force_fpp_scan_calc6_features/ has 23100 files\n",
      "/net/capricorn/home/xing/huijing/Migration/20250128_Supplements++/20250129-update-msmm-model-analysis\n",
      "/net/capricorn/home/xing/huijing/Migration/20250128_Supplements++/20250129-update-msmm-model-analysis/20250129_b0_6_force_fpp_scan_cluster/ folder is freshly created. \n",
      "\n",
      "/net/capricorn/home/xing/huijing/Migration/20250128_Supplements++/20250129-update-msmm-model-analysis/20250129_b0_6_force_fpp_scan_calc6_features/ has 23100 files\n",
      "/net/capricorn/home/xing/huijing/Migration/20250128_Supplements++/20250129-update-msmm-model-analysis\n",
      "/net/capricorn/home/xing/huijing/Migration/20250128_Supplements++/20250129-update-msmm-model-analysis/20250129_b0_force_fpp_scan_cluster/ folder is freshly created. \n",
      "\n",
      "/net/capricorn/home/xing/huijing/Migration/20250128_Supplements++/20250129-update-msmm-model-analysis/20250129_b0_force_fpp_scan_calc6_features/ has 23100 files\n",
      "/net/capricorn/home/xing/huijing/Migration/20250128_Supplements++/20250129-update-msmm-model-analysis\n",
      "/net/capricorn/home/xing/huijing/Migration/20250128_Supplements++/20250129-update-msmm-model-analysis/20250129_b1_force_fpp_scan_cluster/ folder is freshly created. \n",
      "\n",
      "/net/capricorn/home/xing/huijing/Migration/20250128_Supplements++/20250129-update-msmm-model-analysis/20250129_b1_force_fpp_scan_calc6_features/ has 23099 files\n",
      "(1, 51) 23 38\n"
     ]
    },
    {
     "data": {
      "image/png": "[encoded data removed]",
      "text/plain": [
       "<Figure size 576x1080 with 231 Axes>"
      ]
     },
     "metadata": {
      "needs_background": "light"
     },
     "output_type": "display_data"
    },
    {
     "data": {
      "image/png": "[encoded data removed]",
      "text/plain": [
       "<Figure size 576x1080 with 231 Axes>"
      ]
     },
     "metadata": {
      "needs_background": "light"
     },
     "output_type": "display_data"
    },
    {
     "data": {
      "image/png": "[encoded data removed]",
      "text/plain": [
       "<Figure size 576x1080 with 231 Axes>"
      ]
     },
     "metadata": {
      "needs_background": "light"
     },
     "output_type": "display_data"
    },
    {
     "data": {
      "image/png": "[encoded data removed]",
      "text/plain": [
       "<Figure size 576x1080 with 231 Axes>"
      ]
     },
     "metadata": {
      "needs_background": "light"
     },
     "output_type": "display_data"
    }
   ],
   "source": [
    "# beta scans\n",
    "sim_name_list = [\n",
    "    \"20250129_b0_3_force_fpp_scan\",\n",
    "    \"20250129_b0_6_force_fpp_scan\",\n",
    "    \"20250129_b0_force_fpp_scan\",\n",
    "    \"20250129_b1_force_fpp_scan\"\n",
    "]\n",
    "\n",
    "analysis_folder = \"20250129-update-msmm-model-analysis\"\n",
    "analysis_folder = os.path.abspath(analysis_folder)\n",
    "\n",
    "for i in range(len(sim_name_list)):\n",
    "    data_folder = \"./20250129-update-msmm-model-sim-data/CC3D_data_%s\"%sim_name_list[i]\n",
    "    feature_folder = analysis_folder+\"/\"+\"%s_calc6_features/\"%sim_name_list[i]\n",
    "    cluster_folder = geo_cluster(sim_name_list[i], data_folder, feature_folder)\n"
   ]
  },
  {
   "cell_type": "code",
   "execution_count": 29,
   "id": "74d0c9f5",
   "metadata": {},
   "outputs": [
    {
     "name": "stdout",
     "output_type": "stream",
     "text": [
      "./20250129-msmm-model-analysis\n",
      "./20250129-msmm-model-analysis/12222021_formal5_hope_force_fpp_scan_cluster/ folder is freshly created. \n",
      "\n",
      "./20250129-msmm-model-analysis/12222021_formal5_hope_force_fpp_scan_cluster/\n",
      "./20250129-msmm-model-analysis/12222021_formal5_hope_force_fpp_scan_calc6_features/ has 23100 files\n"
     ]
    },
    {
     "data": {
      "image/png": "[encoded data removed]",
      "text/plain": [
       "<Figure size 576x1080 with 231 Axes>"
      ]
     },
     "metadata": {
      "needs_background": "light"
     },
     "output_type": "display_data"
    }
   ],
   "source": [
    "# Original repeat\n",
    "analysis_folder2 = \"./20250129-msmm-model-analysis\"\n",
    "name = \"12222021_formal5_hope_force_fpp_scan\"\n",
    "data_folder = \"/net/capricorn/home/xing/huijing/Migration/CC3D_data_12222021_formal5_hope_force_fpp_scan/\"\n",
    "feature_folder = analysis_folder2+\"/\"+\"12222021_formal5_hope_force_fpp_scan_calc6_features\"\n",
    "\n",
    "cluster_folder = geo_cluster(name, data_folder, feature_folder)\n"
   ]
  },
  {
   "cell_type": "code",
   "execution_count": null,
   "id": "4eb4b911",
   "metadata": {},
   "outputs": [],
   "source": []
  }
 ],
 "metadata": {
  "kernelspec": {
   "display_name": "Python [conda env:.conda-mg1]",
   "language": "python",
   "name": "conda-env-.conda-mg1-py"
  },
  "language_info": {
   "codemirror_mode": {
    "name": "ipython",
    "version": 3
   },
   "file_extension": ".py",
   "mimetype": "text/x-python",
   "name": "python",
   "nbconvert_exporter": "python",
   "pygments_lexer": "ipython3",
   "version": "3.8.8"
  }
 },
 "nbformat": 4,
 "nbformat_minor": 5
}
