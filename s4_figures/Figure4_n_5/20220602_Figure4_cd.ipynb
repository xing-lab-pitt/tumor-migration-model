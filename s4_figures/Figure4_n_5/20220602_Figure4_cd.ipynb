{
 "cells": [
  {
   "cell_type": "code",
   "execution_count": 1,
   "id": "ad9600ac-0a73-454c-8eab-8ff747e81c85",
   "metadata": {},
   "outputs": [],
   "source": [
    "import matplotlib.pyplot as plt\n",
    "import numpy as np\n",
    "import pandas as pd\n",
    "import pipe_util2"
   ]
  },
  {
   "cell_type": "code",
   "execution_count": 2,
   "id": "000d591f-99c5-4917-ba22-a428da989fef",
   "metadata": {},
   "outputs": [],
   "source": [
    "import networkx as nx\n",
    "import numpy as np\n",
    "from matplotlib import pyplot as plt\n",
    "from scipy.spatial.distance import cosine\n",
    "import math \n",
    "from numpy.linalg import norm\n",
    "from matplotlib import animation\n",
    "from os import listdir\n",
    "from skimage.io import imread, imsave\n",
    "import imageio\n",
    "import pandas as pd\n",
    "import seaborn as sns\n",
    "import os\n",
    "\n",
    "import math\n",
    "import numpy as np\n",
    "from scipy.spatial.distance import cosine\n",
    "from numpy.linalg import norm\n",
    "import scipy.stats as stats\n",
    "\n",
    "import pipe_util2"
   ]
  },
  {
   "cell_type": "code",
   "execution_count": 3,
   "id": "2252fa86-3a99-426c-b601-0dad1acc2463",
   "metadata": {},
   "outputs": [],
   "source": [
    "def img_crop(inpath, reduce = 300):\n",
    "    \n",
    "    \"\"\"\n",
    "    Input: folder contains imgs.\n",
    "    \n",
    "    Output:\n",
    "    \"\"\"\n",
    "    inpath = pipe_util2.folder_verify(inpath)\n",
    "    files = pipe_util2.folder_file_num(inpath, \".png\")\n",
    "    path = pipe_util2.create_folder(inpath[:-1]+\"_crop/\")\n",
    "    \n",
    "    for f in files:\n",
    "        img = imread(f)\n",
    "        x = img.shape[0]\n",
    "        y = img.shape[1]\n",
    "        name = os.path.basename(f)\n",
    "        \n",
    "        img = img[reduce:x-reduce, reduce:y-reduce]\n",
    "        imsave(inpath[:-1]+\"_crop/\"+name, img)\n",
    "    \n",
    "    print(\"Images are croped.\")\n",
    "    return path\n",
    "        "
   ]
  },
  {
   "cell_type": "code",
   "execution_count": 4,
   "id": "d5adbfc5-db2b-45e2-b273-7899df1c5212",
   "metadata": {},
   "outputs": [],
   "source": [
    "def d_s_calc(df):\n",
    "    # tumor center displacement from center\n",
    "    s = ((df.x.mean()-128)**2+(df.y.mean()-128)**2)**0.5\n",
    "    s = np.round(s, 2)\n",
    "\n",
    "    # -----------------------------------------------------\n",
    "\n",
    "    # average single cell displacment from center\n",
    "    d = (((df.x-128)**2+(df.y-128)**2)**0.5).mean()\n",
    "    d = np.round(d, 2)\n",
    "    d_std = (((df.x-128)**2+(df.y-128)**2)**0.5).std()\n",
    "    d_std = np.round(d_std, 2)\n",
    "    return d, d_std, s\n",
    "\n",
    "from scipy.spatial import ConvexHull\n",
    "\n",
    "def PolyArea(x,y):\n",
    "    return 0.5*np.abs(np.dot(x,np.roll(y,1))-np.dot(y,np.roll(x,1)))\n",
    "\n",
    "def area_calc(df):\n",
    "    # tumor area with convex hall\n",
    "    points = np.array([df.x, df.y]).T\n",
    "    hull = ConvexHull(points)\n",
    "    vetices = points[hull.vertices]\n",
    "    ara = PolyArea(points[hull.vertices,0],points[hull.vertices,1])\n",
    "    ara_frac = ara/256/256.\n",
    "    #ara_frac = np.round(ara_frac, 2)\n",
    "    return ara_frac\n",
    "            \n",
    "def time_series(folder, start, end):\n",
    "    folder = pipe_util2.folder_verify(folder)\n",
    "    files = pipe_util2.folder_file_num(folder, \"txt\")[start:end]\n",
    "    \n",
    "    d_time = []\n",
    "    d_std_time = []\n",
    "    s_time = []\n",
    "    area_time = []\n",
    "    rac_time = []\n",
    "    ang_std_time = []\n",
    "    ang_mean_time = []\n",
    "    \n",
    "    i = 0\n",
    "    while i<len(files):\n",
    "        df = pd.read_csv(files[i])\n",
    "        #print(df.columns)\n",
    "        d, d_std, s = d_s_calc(df)\n",
    "        ara_frac = area_calc(df)\n",
    "\n",
    "        px = df.x_self_polarity\n",
    "        py = df.y_self_polarity\n",
    "        ang = np.arctan2(py, px)\n",
    "        ang_std = np.round(np.std(ang),2)\n",
    "        ang_mean = np.round(np.mean(ang),2)\n",
    "\n",
    "        d_time.append(d)\n",
    "        d_std_time.append(d_std)\n",
    "        s_time.append(s)\n",
    "        area_time.append(ara_frac)\n",
    "        rac_time.append(df.rac.mean())\n",
    "\n",
    "        ang_std_time.append(ang_std)\n",
    "        ang_mean_time.append(ang_mean)\n",
    "        \n",
    "        f_avg = df.f.mean()\n",
    "        f_max = df.f.max()\n",
    "        i = i+1\n",
    "        \n",
    "    df = pd.DataFrame({\n",
    "        \"d_time\": d_time,\n",
    "        \"d_std_time\": d_std_time,\n",
    "        \"s_time\": s_time,\n",
    "        \"area_time\": area_time,\n",
    "        \"rac_time\": rac_time,\n",
    "        \"ang_std_time\": ang_std_time,\n",
    "        \"ang_mean_time\": ang_mean_time,\n",
    "        \n",
    "        \"f_avg\": f_avg,\n",
    "        \"f_max\": f_max\n",
    "        \n",
    "    })\n",
    "    return df"
   ]
  },
  {
   "cell_type": "code",
   "execution_count": 5,
   "id": "fd3daa6b-460a-4cc0-adf9-e5de9967467d",
   "metadata": {},
   "outputs": [
    {
     "name": "stdout",
     "output_type": "stream",
     "text": [
      "myosin_selected/scan_iteration_3_f165_r/02072022_formal5_myosin_inhibition/ has 379 files\n",
      "myosin_selected/scan_iteration_81_f165_n/06012022_formal5_myosin_inhibition/ has 379 files\n",
      "myosin_selected/scan_iteration_10_f200_r/02072022_formal5_myosin_inhibition/ has 379 files\n",
      "myosin_selected/scan_iteration_184_f200_n/06012022_formal5_myosin_inhibition/ has 379 files\n"
     ]
    }
   ],
   "source": [
    "folder = \"myosin_selected/\"\n",
    "\n",
    "f165_r_folder = \"myosin_selected/scan_iteration_3_f165_r/02072022_formal5_myosin_inhibition/\"\n",
    "f165_r = time_series(f165_r_folder, 0, 270)\n",
    "\n",
    "f165_n_folder = \"myosin_selected/scan_iteration_81_f165_n/06012022_formal5_myosin_inhibition/\"\n",
    "f165_n = time_series(f165_n_folder, 0, 270)\n",
    "\n",
    "f200_r_folder = \"myosin_selected/scan_iteration_10_f200_r/02072022_formal5_myosin_inhibition/\"\n",
    "f200_r = time_series(f200_r_folder, 0, 270)\n",
    "\n",
    "f200_n_folder = \"myosin_selected/scan_iteration_184_f200_n/06012022_formal5_myosin_inhibition/\"\n",
    "f200_n = time_series(f200_n_folder, 0, 270)"
   ]
  },
  {
   "cell_type": "code",
   "execution_count": 9,
   "id": "acd7ff64-f0de-492e-90bf-bf4bbc8c36ed",
   "metadata": {},
   "outputs": [
    {
     "data": {
      "text/html": [
       "<div>\n",
       "<style scoped>\n",
       "    .dataframe tbody tr th:only-of-type {\n",
       "        vertical-align: middle;\n",
       "    }\n",
       "\n",
       "    .dataframe tbody tr th {\n",
       "        vertical-align: top;\n",
       "    }\n",
       "\n",
       "    .dataframe thead th {\n",
       "        text-align: right;\n",
       "    }\n",
       "</style>\n",
       "<table border=\"1\" class=\"dataframe\">\n",
       "  <thead>\n",
       "    <tr style=\"text-align: right;\">\n",
       "      <th></th>\n",
       "      <th>d_time</th>\n",
       "      <th>d_std_time</th>\n",
       "      <th>s_time</th>\n",
       "      <th>area_time</th>\n",
       "      <th>rac_time</th>\n",
       "      <th>ang_std_time</th>\n",
       "      <th>ang_mean_time</th>\n",
       "      <th>f_avg</th>\n",
       "      <th>f_max</th>\n",
       "    </tr>\n",
       "  </thead>\n",
       "  <tbody>\n",
       "    <tr>\n",
       "      <th>0</th>\n",
       "      <td>28.98</td>\n",
       "      <td>10.73</td>\n",
       "      <td>4.12</td>\n",
       "      <td>0.081118</td>\n",
       "      <td>10.0</td>\n",
       "      <td>1.72</td>\n",
       "      <td>0.25</td>\n",
       "      <td>107.869174</td>\n",
       "      <td>145.870851</td>\n",
       "    </tr>\n",
       "    <tr>\n",
       "      <th>1</th>\n",
       "      <td>29.00</td>\n",
       "      <td>10.71</td>\n",
       "      <td>4.11</td>\n",
       "      <td>0.081073</td>\n",
       "      <td>10.0</td>\n",
       "      <td>1.82</td>\n",
       "      <td>0.11</td>\n",
       "      <td>107.869174</td>\n",
       "      <td>145.870851</td>\n",
       "    </tr>\n",
       "    <tr>\n",
       "      <th>2</th>\n",
       "      <td>29.03</td>\n",
       "      <td>10.70</td>\n",
       "      <td>4.12</td>\n",
       "      <td>0.080979</td>\n",
       "      <td>10.0</td>\n",
       "      <td>1.85</td>\n",
       "      <td>0.04</td>\n",
       "      <td>107.869174</td>\n",
       "      <td>145.870851</td>\n",
       "    </tr>\n",
       "  </tbody>\n",
       "</table>\n",
       "</div>"
      ],
      "text/plain": [
       "   d_time  d_std_time  s_time  area_time  rac_time  ang_std_time  \\\n",
       "0   28.98       10.73    4.12   0.081118      10.0          1.72   \n",
       "1   29.00       10.71    4.11   0.081073      10.0          1.82   \n",
       "2   29.03       10.70    4.12   0.080979      10.0          1.85   \n",
       "\n",
       "   ang_mean_time       f_avg       f_max  \n",
       "0           0.25  107.869174  145.870851  \n",
       "1           0.11  107.869174  145.870851  \n",
       "2           0.04  107.869174  145.870851  "
      ]
     },
     "execution_count": 9,
     "metadata": {},
     "output_type": "execute_result"
    }
   ],
   "source": [
    "f200_n.head(3)"
   ]
  },
  {
   "cell_type": "code",
   "execution_count": 10,
   "id": "524ca151",
   "metadata": {},
   "outputs": [],
   "source": [
    "import matplotlib.pylab as pl"
   ]
  },
  {
   "cell_type": "code",
   "execution_count": 11,
   "id": "db293310",
   "metadata": {},
   "outputs": [
    {
     "data": {
      "image/png": "[encoded data removed]",
      "text/html": [
       "<div style=\"vertical-align: middle;\"><strong>tab20</strong> </div><div class=\"cmap\"><img alt=\"tab20 colormap\" title=\"tab20\" style=\"border: 1px solid #555;\" src=\"data:image/png;base64,iVBORw0KGgoAAAANSUhEUgAAAgAAAABACAYAAABsv8+/AAAAFHRFWHRUaXRsZQB0YWIyMCBjb2xvcm1hcM5rFwoAAAAadEVYdERlc2NyaXB0aW9uAHRhYjIwIGNvbG9ybWFwMDS+7AAAADB0RVh0QXV0aG9yAE1hdHBsb3RsaWIgdjMuNS4xLCBodHRwczovL21hdHBsb3RsaWIub3Jn97fOzwAAADJ0RVh0U29mdHdhcmUATWF0cGxvdGxpYiB2My41LjEsIGh0dHBzOi8vbWF0cGxvdGxpYi5vcmfZEVHoAAABxklEQVR4nO3WMUrWARyH8a+eoEHCIXw3pcEgaGgQhQZ53WwOOoBJ4KJHsM2p1bGtzaEbiFMHaIyOoGud4vcn+H4+F3jWZ2N1dfc3C7g5fbNEJu9/7M5HDs7mG0n2/9yNN86PPo43kuRwfTveeHnxebyRJF9/7o03Xp9sjzeS5P7b5SKdt8cn443Vr1fjjSTZOno23vjy8H28kSTr9Xq88fj0YbyRJKudT+ONg9/vxhtJcv3i+SKdzUUqAMB/xQAAQCEDAACFDAAAFDIAAFDIAABAIQMAAIUMAAAUMgAAUMgAAEAhAwAAhQwAABQyAABQyAAAQCEDAACFDAAAFDIAAFDIAABAIQMAAIUMAAAUMgAAUMgAAEAhAwAAhQwAABQyAABQyAAAQCEDAACFDAAAFDIAAFDIAABAIQMAAIUMAAAUMgAAUMgAAEAhAwAAhQwAABQyAABQyAAAQCEDAACFDAAAFDIAAFDIAABAIQMAAIUMAAAUMgAAUMgAAEAhAwAAhQwAABQyAABQyAAAQCEDAACFDAAAFDIAAFDIAABAIQMAAIUMAAAUMgAAUMgAAEAhAwAAhQwAABQyAABQyAAAQCEDAACF/gH40hjcC1ZyLQAAAABJRU5ErkJggg==\"></div><div style=\"vertical-align: middle; max-width: 514px; display: flex; justify-content: space-between;\"><div style=\"float: left;\"><div title=\"#1f77b4ff\" style=\"display: inline-block; width: 1em; height: 1em; margin: 0; vertical-align: middle; border: 1px solid #555; background-color: #1f77b4ff;\"></div> under</div><div style=\"margin: 0 auto; display: inline-block;\">bad <div title=\"#00000000\" style=\"display: inline-block; width: 1em; height: 1em; margin: 0; vertical-align: middle; border: 1px solid #555; background-color: #00000000;\"></div></div><div style=\"float: right;\">over <div title=\"#9edae5ff\" style=\"display: inline-block; width: 1em; height: 1em; margin: 0; vertical-align: middle; border: 1px solid #555; background-color: #9edae5ff;\"></div></div>"
      ],
      "text/plain": [
       "<matplotlib.colors.ListedColormap at 0x7fb957f67520>"
      ]
     },
     "execution_count": 11,
     "metadata": {},
     "output_type": "execute_result"
    }
   ],
   "source": [
    "pl.cm.tab20"
   ]
  },
  {
   "cell_type": "code",
   "execution_count": 12,
   "id": "09bde90e-8e97-445d-a28f-1555e6111b86",
   "metadata": {},
   "outputs": [
    {
     "data": {
      "image/png": "[encoded data removed]",
      "text/plain": [
       "<Figure size 288x216 with 1 Axes>"
      ]
     },
     "metadata": {
      "needs_background": "light"
     },
     "output_type": "display_data"
    }
   ],
   "source": [
    "fig = plt.figure(figsize = (4,3))\n",
    "ax = fig.add_subplot(111)\n",
    "\n",
    "colors = plt.cm.rainbow(np.linspace(0.1,1,2))\n",
    "plt.plot(f165_r.d_time, \"-\", c = pl.cm.tab20(0), lw = 3, label = r\"f=%s, radial migration\"%int(165))\n",
    "plt.plot(f165_n.d_time, \"--\", c = pl.cm.tab20(1), lw = 3, label = r\"f=%s, non migration\"%int(165))\n",
    "\n",
    "plt.plot(f200_r.d_time, \"-\", c = pl.cm.tab20(2), lw = 3,label = r\"f=%s, radial migration\"%int(200))\n",
    "#plt.plot(f200_n.d_time, \"--\", c = pl.cm.tab20(3), lw = 3,label = r\"f=%s\"%int(200))\n",
    "plt.axvline(x=90, c = \"grey\", ls = \"--\")\n",
    "\n",
    "ax.tick_params(axis='x', labelsize=16)  # only affects\n",
    "ax.tick_params(axis='y', labelsize=16)  # tick labels\n",
    "\n",
    "plt.xlabel(\"Time, MCS\", fontsize = 16)\n",
    "plt.legend(fontsize = 10, title=r\"$\\lambda_{fpp}$=50\", frameon=False,\n",
    "           title_fontsize='large', bbox_to_anchor=(1, 1))\n",
    "plt.ylabel(\"Cell displacement\", fontsize = 16)\n",
    "plt.savefig(folder+\"Cell displacement.pdf\", dpi = 200, bbox_inches = \"tight\")"
   ]
  },
  {
   "cell_type": "code",
   "execution_count": 13,
   "id": "cb3baba6-40a1-42d1-9800-36310e21e968",
   "metadata": {},
   "outputs": [
    {
     "data": {
      "image/png": "[encoded data removed]",
      "text/plain": [
       "<Figure size 288x216 with 1 Axes>"
      ]
     },
     "metadata": {
      "needs_background": "light"
     },
     "output_type": "display_data"
    }
   ],
   "source": [
    "fig = plt.figure(figsize = (4,3))\n",
    "ax = fig.add_subplot(111)\n",
    "\n",
    "colors = plt.cm.rainbow(np.linspace(0.1,1,2))\n",
    "plt.plot(f165_r.area_time, \"-\", c = pl.cm.tab20(0), lw = 3, label = r\"f=%s, radial migration\"%int(165))\n",
    "plt.plot(f165_n.area_time, \"--\", c = pl.cm.tab20(1), lw = 3, label = r\"f=%s, non migration\"%int(165))\n",
    "\n",
    "plt.plot(f200_r.area_time, \"-\", c = pl.cm.tab20(2), lw = 3,label = r\"f=%s, radial migration\"%int(200))\n",
    "#plt.plot(f200_n.area_time, \"--\", c = pl.cm.tab20(3), lw = 3,label = r\"f=%s\"%int(200))\n",
    "plt.axvline(x=90, c = \"grey\", ls = \"--\")\n",
    "\n",
    "ax.tick_params(axis='x', labelsize=16)  # only affects\n",
    "ax.tick_params(axis='y', labelsize=16)  # tick labels\n",
    "\n",
    "plt.xlabel(\"Time, MCS\", fontsize = 16)\n",
    "plt.legend(fontsize = 10, title=r\"$\\lambda_{fpp}$=50\", frameon=False,\n",
    "           title_fontsize='large', bbox_to_anchor=(1, 1))\n",
    "plt.ylabel(\"Convex area\", fontsize = 16)\n",
    "plt.savefig(folder+\"Convex area.pdf\", dpi = 200, bbox_inches = \"tight\")"
   ]
  },
  {
   "cell_type": "code",
   "execution_count": 15,
   "id": "f5711948-31cc-46aa-a52c-a34cb1e56fb7",
   "metadata": {},
   "outputs": [
    {
     "data": {
      "image/png": "[encoded data removed]",
      "text/plain": [
       "<Figure size 216x216 with 1 Axes>"
      ]
     },
     "metadata": {
      "needs_background": "light"
     },
     "output_type": "display_data"
    }
   ],
   "source": [
    "fig = plt.figure(figsize = (3,3))\n",
    "ax = fig.add_subplot(111)\n",
    "\n",
    "colors = plt.cm.rainbow(np.linspace(0.1,1,2))\n",
    "plt.plot(f165_r.d_time, \"-\", c = \"k\", lw = 3, label = r\"f=%s\"%int(165))\n",
    "plt.plot(f200_r.d_time, \"-.\", c = \"b\", lw = 3,label = r\"f=%s\"%int(200))\n",
    "plt.axvline(x=90, c = \"grey\", ls = \"--\")\n",
    "\n",
    "ax.tick_params(axis='x', labelsize=16)  # only affects\n",
    "ax.tick_params(axis='y', labelsize=16)  # tick labels\n",
    "\n",
    "plt.xlabel(\"Time, MCS\", fontsize = 16)\n",
    "plt.legend(fontsize = 14, title=r\"$\\lambda_{fpp}$=50\", title_fontsize='large')\n",
    "plt.legend(fontsize = 14, title=r\"$\\lambda_{fpp}$=50\", title_fontsize='large')\n",
    "plt.ylabel(\"Cell displacement\", fontsize = 16)\n",
    "plt.savefig(folder+\"Cell displacement bk.pdf\", dpi = 200, bbox_inches = \"tight\")"
   ]
  },
  {
   "cell_type": "code",
   "execution_count": 16,
   "id": "19f426d8",
   "metadata": {},
   "outputs": [
    {
     "data": {
      "image/png": "[encoded data removed]",
      "text/plain": [
       "<Figure size 216x216 with 1 Axes>"
      ]
     },
     "metadata": {
      "needs_background": "light"
     },
     "output_type": "display_data"
    }
   ],
   "source": [
    "fig = plt.figure(figsize = (3,3))\n",
    "ax = fig.add_subplot(111)\n",
    "\n",
    "colors = plt.cm.rainbow(np.linspace(0.1,1,2))\n",
    "plt.plot(f165_r.area_time, \"-\", c = \"k\", lw = 3, label = r\"f=%s\"%int(165))\n",
    "plt.plot(f200_r.area_time, \"-.\", c = \"b\", lw = 3,label = r\"f=%s\"%int(200))\n",
    "plt.axvline(x=90, c = \"grey\", ls = \"--\")\n",
    "\n",
    "ax.tick_params(axis='x', labelsize=16)  # only affects\n",
    "ax.tick_params(axis='y', labelsize=16)  # tick labels\n",
    "\n",
    "plt.xlabel(\"Time, MCS\", fontsize = 16)\n",
    "plt.legend(fontsize = 14, title=r\"$\\lambda_{fpp}$=50\",title_fontsize='large')\n",
    "plt.ylabel(\"Convex area\", fontsize = 16)\n",
    "plt.savefig(folder+\"Convex area bk.pdf\", dpi = 200, bbox_inches = \"tight\")"
   ]
  },
  {
   "cell_type": "code",
   "execution_count": null,
   "id": "d926a80e",
   "metadata": {},
   "outputs": [],
   "source": []
  }
 ],
 "metadata": {
  "kernelspec": {
   "display_name": "Python 3 (ipykernel)",
   "language": "python",
   "name": "python3"
  },
  "language_info": {
   "codemirror_mode": {
    "name": "ipython",
    "version": 3
   },
   "file_extension": ".py",
   "mimetype": "text/x-python",
   "name": "python",
   "nbconvert_exporter": "python",
   "pygments_lexer": "ipython3",
   "version": "3.8.12"
  }
 },
 "nbformat": 4,
 "nbformat_minor": 5
}
