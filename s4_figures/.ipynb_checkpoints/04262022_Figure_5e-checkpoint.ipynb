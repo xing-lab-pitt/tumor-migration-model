{
 "cells": [
  {
   "cell_type": "markdown",
   "id": "1587e354",
   "metadata": {},
   "source": [
    "# Figure 5e\n",
    "\n",
    "The percentage of migration modes for different adhesion strength. \n",
    "\n",
    "# 1. Importing data"
   ]
  },
  {
   "cell_type": "code",
   "execution_count": 2,
   "id": "445bfc18",
   "metadata": {},
   "outputs": [
    {
     "name": "stdout",
     "output_type": "stream",
     "text": [
      "matplotlib: 3.4.2\n"
     ]
    }
   ],
   "source": [
    "import matplotlib\n",
    "print('matplotlib: {}'.format(matplotlib.__version__))"
   ]
  },
  {
   "cell_type": "code",
   "execution_count": 3,
   "id": "d141cdc4",
   "metadata": {},
   "outputs": [],
   "source": [
    "import pandas as pd\n",
    "import numpy as np\n",
    "import matplotlib.pyplot as plt"
   ]
  },
  {
   "cell_type": "code",
   "execution_count": 4,
   "id": "f312d7bd",
   "metadata": {},
   "outputs": [],
   "source": [
    "res_folder = \"12222021_formal5_hope_force_fpp_scan_calc5_cluster/\"\n",
    "geo_270_file = res_folder+\"geo_270.csv\"\n",
    "geo_props_file = res_folder+\"geo_props.csv\"\n",
    "scaled_geo_diff_fpp_force_file = res_folder+\"geo_props.csv\"\n",
    "\n",
    "geo_270 = pd.read_csv(geo_270_file, index_col=0)\n",
    "geo_props = pd.read_csv(geo_props_file, index_col=0)\n",
    "scaled_geo_diff_fpp_force = pd.read_csv(scaled_geo_diff_fpp_force_file, index_col=0)"
   ]
  },
  {
   "cell_type": "code",
   "execution_count": 5,
   "id": "4d18432c",
   "metadata": {},
   "outputs": [
    {
     "data": {
      "text/plain": [
       "(6050, 56)"
      ]
     },
     "execution_count": 5,
     "metadata": {},
     "output_type": "execute_result"
    }
   ],
   "source": [
    "geo_270_half = geo_270.loc[geo_270.fpp_scan<501, :].reset_index(drop=True).copy()\n",
    "geo_270_half.shape"
   ]
  },
  {
   "cell_type": "code",
   "execution_count": 6,
   "id": "dbfa1152",
   "metadata": {},
   "outputs": [],
   "source": [
    "force_list = sorted(geo_270_half[\"force_scan\"].unique())\n",
    "fpp_list = sorted(geo_270_half[\"fpp_scan\"].unique())"
   ]
  },
  {
   "cell_type": "code",
   "execution_count": 7,
   "id": "daff524b",
   "metadata": {},
   "outputs": [
    {
     "data": {
      "text/plain": [
       "[0, 30, 60, 90, 120, 150, 180, 210, 240, 270, 300]"
      ]
     },
     "execution_count": 7,
     "metadata": {},
     "output_type": "execute_result"
    }
   ],
   "source": [
    "force_list"
   ]
  },
  {
   "cell_type": "code",
   "execution_count": 8,
   "id": "241ec6f6",
   "metadata": {},
   "outputs": [
    {
     "data": {
      "text/plain": [
       "[0, 50, 100, 150, 200, 250, 300, 350, 400, 450, 500]"
      ]
     },
     "execution_count": 8,
     "metadata": {},
     "output_type": "execute_result"
    }
   ],
   "source": [
    "fpp_list"
   ]
  },
  {
   "cell_type": "markdown",
   "id": "13c7a5cb",
   "metadata": {},
   "source": [
    "# 2. Count different modes"
   ]
  },
  {
   "cell_type": "code",
   "execution_count": 9,
   "id": "95d948ab",
   "metadata": {},
   "outputs": [],
   "source": [
    "def count_mode(df, mode):\n",
    "    # for a df\n",
    "    # count the number of the specified mode\n",
    "    count = df[df.mode1==mode].shape[0]\n",
    "    \n",
    "    return count"
   ]
  },
  {
   "cell_type": "code",
   "execution_count": 10,
   "id": "66034bac",
   "metadata": {},
   "outputs": [],
   "source": [
    "# scan for adhesion strength\n",
    "f = 210\n",
    "\n",
    "# 1 - stay\n",
    "# 2 - radial\n",
    "# 3 - dir\n",
    "mode1_list = []\n",
    "mode2_list = []\n",
    "mode3_list = []\n",
    "    \n",
    "for fpp in fpp_list:\n",
    "    df_sub_f_fpp = geo_270_half.loc[(geo_270_half.force_scan==f)&(geo_270_half.fpp_scan==fpp)].copy()\n",
    "    #print(df_sub_f_fpp.shape, f, fpp)\n",
    "    ct1 = count_mode(df_sub_f_fpp, 1)\n",
    "    ct2 = count_mode(df_sub_f_fpp, 2)    \n",
    "    ct3 = count_mode(df_sub_f_fpp, 3)\n",
    "    #print(ct1, ct2, ct3)\n",
    "    \n",
    "    mode1_list.append(ct1)\n",
    "    mode2_list.append(ct2)        \n",
    "    mode3_list.append(ct3)"
   ]
  },
  {
   "cell_type": "code",
   "execution_count": 11,
   "id": "693340c4",
   "metadata": {},
   "outputs": [],
   "source": [
    "mode1_list = np.array(mode1_list)/50.\n",
    "mode2_list = np.array(mode2_list)/50.\n",
    "mode3_list = np.array(mode3_list)/50."
   ]
  },
  {
   "cell_type": "code",
   "execution_count": 12,
   "id": "73803559",
   "metadata": {},
   "outputs": [
    {
     "data": {
      "text/plain": [
       "array([0.02, 0.06, 0.42, 0.6 , 0.86, 0.82, 0.88, 0.88, 0.76, 0.74, 0.84])"
      ]
     },
     "execution_count": 12,
     "metadata": {},
     "output_type": "execute_result"
    }
   ],
   "source": [
    "mode1_list"
   ]
  },
  {
   "cell_type": "code",
   "execution_count": 13,
   "id": "950d4727",
   "metadata": {},
   "outputs": [
    {
     "data": {
      "text/plain": [
       "array([0.98, 0.94, 0.52, 0.1 , 0.  , 0.  , 0.  , 0.  , 0.  , 0.  , 0.  ])"
      ]
     },
     "execution_count": 13,
     "metadata": {},
     "output_type": "execute_result"
    }
   ],
   "source": [
    "mode2_list"
   ]
  },
  {
   "cell_type": "code",
   "execution_count": 14,
   "id": "126a91a7",
   "metadata": {},
   "outputs": [
    {
     "data": {
      "text/plain": [
       "array([0.  , 0.  , 0.06, 0.3 , 0.14, 0.18, 0.12, 0.12, 0.24, 0.26, 0.16])"
      ]
     },
     "execution_count": 14,
     "metadata": {},
     "output_type": "execute_result"
    }
   ],
   "source": [
    "mode3_list"
   ]
  },
  {
   "cell_type": "markdown",
   "id": "a5216350",
   "metadata": {},
   "source": [
    "# 3. Draw the figure"
   ]
  },
  {
   "cell_type": "code",
   "execution_count": 15,
   "id": "03d30026",
   "metadata": {},
   "outputs": [],
   "source": [
    "from matplotlib import rcParams\n",
    "rcParams['axes.labelpad'] = 12"
   ]
  },
  {
   "cell_type": "code",
   "execution_count": 28,
   "id": "9e193f62",
   "metadata": {},
   "outputs": [
    {
     "data": {
      "image/png": "[encoded data removed]",
      "text/plain": [
       "<Figure size 432x288 with 1 Axes>"
      ]
     },
     "metadata": {
      "needs_background": "light"
     },
     "output_type": "display_data"
    }
   ],
   "source": [
    "# bar plot\n",
    "x = np.arange(len(mode1_list))  # the label locations\n",
    "width = 0.42  # the width of the bars\n",
    "\n",
    "fig, ax = plt.subplots()\n",
    "rects1 = ax.bar(x - width/2, mode2_list, width, color = colors[1], label='Radial migration')\n",
    "rects2 = ax.bar(x + width/2, mode3_list, width, color = colors[0], label='Directional migration')\n",
    "\n",
    "# Add some text for labels, title and custom x-axis tick labels, etc.\n",
    "ax.set_ylabel('Migration mode fraction')\n",
    "#ax.set_title('')\n",
    "ax.set_xticks(x[::2])\n",
    "ax.set_xticklabels(fpp_list[::2])\n",
    "\n",
    "ax.plot(x-width/2., mode2_list,\"--.\", alpha = 0.7,\n",
    "        color = \"darkgreen\", lw = 2, markersize =8,\n",
    "        zorder=2)\n",
    "\n",
    "ax.plot(x+width/2., mode3_list,\"--.\", alpha = 0.7,\n",
    "        color = \"midnightblue\", lw = 2, markersize =8,\n",
    "        zorder=2)\n",
    "\n",
    "plt.legend(fontsize = 11.5,\n",
    "           title=r\"$f$=210\",title_fontsize=11.5,\n",
    "           edgecolor=\"white\", bbox_to_anchor=(0.5,0.98)\n",
    "          )\n",
    "\n",
    "ax.tick_params(axis='x', labelsize=14)  # only affects\n",
    "ax.tick_params(axis='y', labelsize=14)  # tick labels\n",
    "\n",
    "# ax.bar_label(rects1, padding=3)\n",
    "# ax.bar_label(rects2, padding=3)\n",
    "\n",
    "plt.xlabel(r\"Adhesion $\\lambda_{fpp}$\", fontsize = 16)\n",
    "plt.ylabel(\"Migration mode fraction\", fontsize = 16)\n",
    "\n",
    "fig.tight_layout()\n",
    "plt.savefig(res_folder+\"04262022_modes_vs_adhesion_hist\"+\".pdf\", dpi = 200, bbox_inches = \"tight\")\n",
    "plt.show()"
   ]
  },
  {
   "cell_type": "code",
   "execution_count": null,
   "id": "3f2c2711",
   "metadata": {},
   "outputs": [],
   "source": []
  }
 ],
 "metadata": {
  "kernelspec": {
   "display_name": "Python 3 (ipykernel)",
   "language": "python",
   "name": "python3"
  },
  "language_info": {
   "codemirror_mode": {
    "name": "ipython",
    "version": 3
   },
   "file_extension": ".py",
   "mimetype": "text/x-python",
   "name": "python",
   "nbconvert_exporter": "python",
   "pygments_lexer": "ipython3",
   "version": "3.8.8"
  }
 },
 "nbformat": 4,
 "nbformat_minor": 5
}
