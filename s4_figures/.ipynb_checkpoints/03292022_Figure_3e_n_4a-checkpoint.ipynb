{
 "cells": [
  {
   "cell_type": "code",
   "execution_count": 1,
   "id": "ede34b69",
   "metadata": {},
   "outputs": [],
   "source": [
    "import pandas as pd\n",
    "import numpy as np\n",
    "from scipy.stats import pearsonr\n",
    "from scipy.interpolate import griddata\n",
    "import scipy\n",
    "import matplotlib.pyplot as plt\n",
    "from skimage.morphology import square, dilation\n",
    "from skimage import data, util\n",
    "from skimage.measure import label, perimeter\n",
    "\n",
    "from sklearn.preprocessing import StandardScaler\n",
    "from sklearn.decomposition import PCA\n",
    "from sklearn.cluster import KMeans\n",
    "import sklearn\n",
    "import umap\n",
    "\n",
    "import seaborn as sns\n",
    "import os\n",
    "import re\n",
    "import json\n",
    "import sys\n",
    "import shutil\n",
    "import pickle\n",
    "\n",
    "import pipe_util2\n",
    "import cc3d_util as cu"
   ]
  },
  {
   "cell_type": "code",
   "execution_count": 2,
   "id": "71fe0b4d",
   "metadata": {},
   "outputs": [],
   "source": [
    "def geo_df_generate(feature_folder, res_folder, name=\"geo_props\"):\n",
    "    \n",
    "    geo_csvs = pipe_util2.folder_file_num(feature_folder, \".csv\")\n",
    "    df_list = []\n",
    "    # merge all dfs\n",
    "    i = 0\n",
    "    while i<len(geo_csvs):\n",
    "        df = pd.read_csv(geo_csvs[i], index_col=0)\n",
    "        df_list.append(df)\n",
    "    #     if i%1000==0:\n",
    "    #         print(i)\n",
    "        i = i+1\n",
    "    geo_df = pd.concat(df_list, ignore_index = True)\n",
    "\n",
    "\n",
    "    # removing records that don't have matching part.\n",
    "    for r in geo_df.rep_inx.unique():\n",
    "\n",
    "        for i in geo_df.iter_inx.unique():\n",
    "            temp = geo_df.loc[(geo_df.rep_inx==r) & (geo_df.iter_inx==i)].copy()\n",
    "            if temp.shape[0]==1:\n",
    "                print(temp.shape, r, i)\n",
    "                geo_df.drop(temp.index, inplace = True)\n",
    "\n",
    "    res_folder = pipe_util2.folder_verify(res_folder)\n",
    "    pipe_util2.create_folder(res_folder)\n",
    "    geo_df.to_csv(res_folder+name+\".csv\")"
   ]
  },
  {
   "cell_type": "code",
   "execution_count": 3,
   "id": "7301de5f",
   "metadata": {},
   "outputs": [],
   "source": [
    "def mode_predicting(geo_df, final_timepoint, \n",
    "                    scaler_file, kmean1_file, \n",
    "                    umap2_file, kmean2_file):\n",
    "    \n",
    "    with open(kmean1_file, \"rb\") as f:\n",
    "        model1 = pickle.load(f)\n",
    "    \n",
    "    with open(scaler_file, \"rb\") as f:\n",
    "        scaler1 = pickle.load(f)\n",
    "\n",
    "    with open(kmean2_file, \"rb\") as f:\n",
    "        model2 = pickle.load(f) \n",
    "\n",
    "    with open(umap2_file, \"rb\") as f:\n",
    "        umap2 = pickle.load(f)\n",
    "    \n",
    "    # geo df for timepoint 270 no selection for columns\n",
    "    geo_270 = geo_df.loc[geo_df.timepoint==final_timepoint].reset_index(drop=True).copy()\n",
    "\n",
    "    cols = ['s', 'd', 'd_std', 'area_frac', 'area_convex_frac',\n",
    "        'peri', 'peri_convex', \"minor_major_ratio\", 'compact',\n",
    "        'eccentric', 'circular', 'convexity', 'solidity',\n",
    "        'radial_dist_cx_std', 'sphericity', 'radial_dist_cn_mean',\n",
    "       'radial_dist_cn_std']\n",
    "\n",
    "    # geo features for differences\n",
    "    geo_df_270 = geo_df.loc[geo_df.timepoint==final_timepoint][cols].reset_index(drop=True).copy()\n",
    "    geo_df_90 = geo_df.loc[geo_df.timepoint==90][cols].reset_index(drop=True).copy()\n",
    "    #print(\"lalala\",geo_df_270.shape)\n",
    "\n",
    "    geo_diff_df = geo_df_270.divide(geo_df_90, axis='index').copy()\n",
    "    geo_diff_df['dxy_std'] = geo_df[geo_df.timepoint==final_timepoint].dxy_std.values\n",
    "    geo_diff_df['dxy_mean'] = geo_df[geo_df.timepoint==final_timepoint].dxy_mean.values\n",
    "    \n",
    "    # scale\n",
    "    # Apply feature scaling to the general population demographics data.\n",
    "    scaled_geo_diff = pd.DataFrame(scaler1.transform(geo_diff_df))\n",
    "    scaled_geo_diff.columns = geo_diff_df.columns\n",
    "    scaled_geo_diff.index = geo_diff_df.index\n",
    "\n",
    "    # clustering 1\n",
    "    # Re-fit the k-means model with the selected number of clusters and obtain\n",
    "    # cluster predictions for the general population demographics data.\n",
    "    scaled_geo_diff_select = scaled_geo_diff[[\"s\", \"d\",\"d_std\", \n",
    "                                          \"radial_dist_cn_std\",\n",
    "                                          \"radial_dist_cn_mean\",\n",
    "                                          \"dxy_std\"]].copy()\n",
    "    kmean_geo_diff_select = model1.predict(scaled_geo_diff_select)\n",
    "    geo_270[\"mode1\"] = kmean_geo_diff_select\n",
    "    geo_270[\"mode2\"] = kmean_geo_diff_select\n",
    "    # updating modes\n",
    "    mig_mode_num = 0\n",
    "    nmg_mode_num = 1\n",
    "    geo_270.loc[geo_270[\"mode1\"]==nmg_mode_num,\"mode1\"]=3\n",
    "    \n",
    "    # clustering 2\n",
    "    scaled_mig_geo_diff_select = scaled_geo_diff[geo_270.mode2==mig_mode_num]\n",
    "    if scaled_mig_geo_diff_select.shape[0]==0:\n",
    "        print(\"All modes are non-migrative.\")\n",
    "        return 0\n",
    "    embedding = umap2.transform(scaled_mig_geo_diff_select)\n",
    "    embedding = pd.DataFrame(embedding)\n",
    "    # Re-fit the k-means model with the selected number of clusters and obtain\n",
    "    # cluster predictions for the general population demographics data.\n",
    "    kmean_geo_diff_select = model2.predict(embedding)\n",
    "    geo_270.loc[geo_270[\"mode2\"]==mig_mode_num,\"mode1\"] = kmean_geo_diff_select\n",
    "    # updating modes\n",
    "    rad_mode_num = 0\n",
    "    dir_mode_num = 1\n",
    "    geo_270.loc[geo_270[\"mode1\"]==rad_mode_num,\"mode1\"]=4\n",
    "    geo_270.loc[geo_270[\"mode1\"]==dir_mode_num,\"mode1\"]=5\n",
    "    geo_270['mode1'] = geo_270['mode1']-2\n",
    "\n",
    "    return geo_270"
   ]
  },
  {
   "cell_type": "markdown",
   "id": "da7f23d0",
   "metadata": {},
   "source": [
    "# fpp and force scan\n",
    "# 1. Importing data"
   ]
  },
  {
   "cell_type": "code",
   "execution_count": 4,
   "id": "143f57ca",
   "metadata": {},
   "outputs": [],
   "source": [
    "res_folder = \"12222021_formal5_hope_force_fpp_scan_calc5_cluster/\"\n",
    "geo_270_file = res_folder+\"geo_270.csv\"\n",
    "geo_props_file = res_folder+\"geo_props.csv\"\n",
    "scaled_geo_diff_fpp_force_file = res_folder+\"geo_props.csv\"\n",
    "\n",
    "geo_270 = pd.read_csv(geo_270_file, index_col=0)\n",
    "geo_props = pd.read_csv(geo_props_file, index_col=0)\n",
    "scaled_geo_diff_fpp_force = pd.read_csv(scaled_geo_diff_fpp_force_file, index_col=0)"
   ]
  },
  {
   "cell_type": "code",
   "execution_count": 5,
   "id": "370a84d6",
   "metadata": {},
   "outputs": [
    {
     "data": {
      "text/plain": [
       "(6050, 56)"
      ]
     },
     "execution_count": 5,
     "metadata": {},
     "output_type": "execute_result"
    }
   ],
   "source": [
    "geo_270_half = geo_270.loc[geo_270.fpp_scan<501, :].reset_index(drop=True).copy()\n",
    "geo_270_half.shape"
   ]
  },
  {
   "cell_type": "code",
   "execution_count": 6,
   "id": "8549e0c5",
   "metadata": {},
   "outputs": [
    {
     "data": {
      "text/html": [
       "<div>\n",
       "<style scoped>\n",
       "    .dataframe tbody tr th:only-of-type {\n",
       "        vertical-align: middle;\n",
       "    }\n",
       "\n",
       "    .dataframe tbody tr th {\n",
       "        vertical-align: top;\n",
       "    }\n",
       "\n",
       "    .dataframe thead th {\n",
       "        text-align: right;\n",
       "    }\n",
       "</style>\n",
       "<table border=\"1\" class=\"dataframe\">\n",
       "  <thead>\n",
       "    <tr style=\"text-align: right;\">\n",
       "      <th></th>\n",
       "      <th>rep_inx</th>\n",
       "      <th>iter_inx</th>\n",
       "      <th>timepoint</th>\n",
       "      <th>scan_f</th>\n",
       "      <th>scan_inx</th>\n",
       "      <th>jasn_file</th>\n",
       "      <th>scan_keys</th>\n",
       "      <th>scan_param</th>\n",
       "      <th>traj</th>\n",
       "      <th>mode_temp</th>\n",
       "      <th>...</th>\n",
       "      <th>p_mean_180</th>\n",
       "      <th>tumor_p_var_180</th>\n",
       "      <th>cell_p_var_180</th>\n",
       "      <th>p_mean_30</th>\n",
       "      <th>tumor_p_var_30</th>\n",
       "      <th>cell_p_var_30</th>\n",
       "      <th>fpp_scan</th>\n",
       "      <th>force_scan</th>\n",
       "      <th>mode1</th>\n",
       "      <th>mode2</th>\n",
       "    </tr>\n",
       "  </thead>\n",
       "  <tbody>\n",
       "    <tr>\n",
       "      <th>0</th>\n",
       "      <td>0</td>\n",
       "      <td>0</td>\n",
       "      <td>270</td>\n",
       "      <td>/net/capricorn/home/xing/huijing/Migration/CC3...</td>\n",
       "      <td>0</td>\n",
       "      <td>/net/capricorn/home/xing/huijing/Migration/CC3...</td>\n",
       "      <td>fpp_scan force_scan</td>\n",
       "      <td>0.0 0.0</td>\n",
       "      <td>/net/capricorn/home/xing/huijing/Migration/CC3...</td>\n",
       "      <td>1</td>\n",
       "      <td>...</td>\n",
       "      <td>0.008195</td>\n",
       "      <td>0.967403</td>\n",
       "      <td>0.961911</td>\n",
       "      <td>0.009550</td>\n",
       "      <td>0.972116</td>\n",
       "      <td>0.911498</td>\n",
       "      <td>0</td>\n",
       "      <td>0</td>\n",
       "      <td>1</td>\n",
       "      <td>1</td>\n",
       "    </tr>\n",
       "    <tr>\n",
       "      <th>1</th>\n",
       "      <td>0</td>\n",
       "      <td>105</td>\n",
       "      <td>270</td>\n",
       "      <td>/net/capricorn/home/xing/huijing/Migration/CC3...</td>\n",
       "      <td>105</td>\n",
       "      <td>/net/capricorn/home/xing/huijing/Migration/CC3...</td>\n",
       "      <td>fpp_scan force_scan</td>\n",
       "      <td>0.0 150.0</td>\n",
       "      <td>/net/capricorn/home/xing/huijing/Migration/CC3...</td>\n",
       "      <td>2</td>\n",
       "      <td>...</td>\n",
       "      <td>0.088982</td>\n",
       "      <td>0.988887</td>\n",
       "      <td>0.897002</td>\n",
       "      <td>0.023675</td>\n",
       "      <td>0.994505</td>\n",
       "      <td>0.678038</td>\n",
       "      <td>0</td>\n",
       "      <td>150</td>\n",
       "      <td>2</td>\n",
       "      <td>0</td>\n",
       "    </tr>\n",
       "  </tbody>\n",
       "</table>\n",
       "<p>2 rows × 56 columns</p>\n",
       "</div>"
      ],
      "text/plain": [
       "   rep_inx  iter_inx  timepoint  \\\n",
       "0        0         0        270   \n",
       "1        0       105        270   \n",
       "\n",
       "                                              scan_f  scan_inx  \\\n",
       "0  /net/capricorn/home/xing/huijing/Migration/CC3...         0   \n",
       "1  /net/capricorn/home/xing/huijing/Migration/CC3...       105   \n",
       "\n",
       "                                           jasn_file            scan_keys  \\\n",
       "0  /net/capricorn/home/xing/huijing/Migration/CC3...  fpp_scan force_scan   \n",
       "1  /net/capricorn/home/xing/huijing/Migration/CC3...  fpp_scan force_scan   \n",
       "\n",
       "  scan_param                                               traj  mode_temp  \\\n",
       "0    0.0 0.0  /net/capricorn/home/xing/huijing/Migration/CC3...          1   \n",
       "1  0.0 150.0  /net/capricorn/home/xing/huijing/Migration/CC3...          2   \n",
       "\n",
       "   ...  p_mean_180  tumor_p_var_180  cell_p_var_180  p_mean_30  \\\n",
       "0  ...    0.008195         0.967403        0.961911   0.009550   \n",
       "1  ...    0.088982         0.988887        0.897002   0.023675   \n",
       "\n",
       "   tumor_p_var_30  cell_p_var_30  fpp_scan  force_scan  mode1  mode2  \n",
       "0        0.972116       0.911498         0           0      1      1  \n",
       "1        0.994505       0.678038         0         150      2      0  \n",
       "\n",
       "[2 rows x 56 columns]"
      ]
     },
     "execution_count": 6,
     "metadata": {},
     "output_type": "execute_result"
    }
   ],
   "source": [
    "geo_270_half.head(2)"
   ]
  },
  {
   "cell_type": "markdown",
   "id": "22fa55c0",
   "metadata": {},
   "source": [
    "# Figure 4a myosin inhibition"
   ]
  },
  {
   "cell_type": "code",
   "execution_count": 12,
   "id": "dc38fcc1",
   "metadata": {},
   "outputs": [],
   "source": [
    "counts_list, param1_len, param2_len = cu.counts_from_df_w_mode_col(geo_270_half.loc[geo_270_half.fpp==50,], \n",
    "                                                                   \"mode1\", \n",
    "                                                                   \"force_scan\",\n",
    "                                                                   \"fpp_scan\")"
   ]
  },
  {
   "cell_type": "code",
   "execution_count": 15,
   "id": "eba2ef69",
   "metadata": {},
   "outputs": [],
   "source": [
    "def dist_data(x, mode_list):\n",
    "    \n",
    "    data = []\n",
    "    mode_list = 50*np.array(mode_list)\n",
    "    for i, item in enumerate(mode_list):\n",
    "        item=int(item)\n",
    "        d = [x[i]]*item\n",
    "        data = data+d\n",
    "    return data\n",
    "\n",
    "#dist_data(akt_x, rad_line)"
   ]
  },
  {
   "cell_type": "code",
   "execution_count": 41,
   "id": "0024637f",
   "metadata": {},
   "outputs": [
    {
     "data": {
      "image/png": "[encoded data removed]",
      "text/plain": [
       "<Figure size 432x288 with 1 Axes>"
      ]
     },
     "metadata": {
      "needs_background": "light"
     },
     "output_type": "display_data"
    }
   ],
   "source": [
    "from scipy import stats\n",
    "\n",
    "rcParams['axes.labelpad'] = 12\n",
    "\n",
    "modes_matrix = np.array(counts_list).T\n",
    "nmg_line = modes_matrix[0]\n",
    "rad_line = modes_matrix[1]\n",
    "dir_line = modes_matrix[2]\n",
    "\n",
    "x = np.arange(len(nmg_line))  # the label locations\n",
    "width = 0.42  # the width of the bars\n",
    "\n",
    "\n",
    "fig = plt.figure()\n",
    "ax = fig.add_subplot(111)\n",
    "colors = plt.cm.rainbow(np.linspace(0.1,1,3))\n",
    "\n",
    "rects1 = ax.bar(x - width/2, rad_line, width, color = colors[1], label='Radial migration')\n",
    "rects2 = ax.bar(x + width/2, dir_line, width, color = colors[0], label='Directional migration')\n",
    "\n",
    "# Add some text for labels, title and custom x-axis tick labels, etc.\n",
    "ax.set_ylabel('Migration mode fraction')\n",
    "#ax.set_title('')\n",
    "ax.set_xticks(x[::2])\n",
    "ax.set_xticklabels(\n",
    "    sorted(np.unique(geo_270_half.loc[geo_270_half.fpp==50,\"force_scan\"].to_list()))[::2]\n",
    ")\n",
    "\n",
    "ax.plot(x-width/2., rad_line,\"--.\", alpha = 0.7,\n",
    "        color = \"darkgreen\", lw = 2, markersize =8,\n",
    "        zorder=2)\n",
    "\n",
    "ax.plot(x+width/2., dir_line,\"--.\", alpha = 0.7,\n",
    "        color = \"midnightblue\", lw = 2, markersize =8,\n",
    "        zorder=2)\n",
    "\n",
    "plt.legend(fontsize = 11.5,\n",
    "           title=r\"$f$=210\",title_fontsize=11.5,\n",
    "           edgecolor=\"white\", bbox_to_anchor=(0.55,0.98)\n",
    "          )\n",
    "\n",
    "ax.tick_params(axis='x', labelsize=14)  # only affects\n",
    "ax.tick_params(axis='y', labelsize=14)  # tick labels\n",
    "    \n",
    "#plt.ylim((0,1))\n",
    "plt.xlabel(r\"Protrusion force f\", fontsize = 16)\n",
    "plt.ylabel(\"Migration mode fraction\", fontsize = 16)\n",
    "plt.savefig(res_folder+\"modes_vs_force_bar\"+\".pdf\", dpi = 200, bbox_inches = \"tight\")"
   ]
  },
  {
   "cell_type": "code",
   "execution_count": null,
   "id": "a3d4b0e7",
   "metadata": {},
   "outputs": [],
   "source": []
  },
  {
   "cell_type": "markdown",
   "id": "6a184ab0",
   "metadata": {},
   "source": [
    "# Figure 3e Polarity time trajectories"
   ]
  },
  {
   "cell_type": "code",
   "execution_count": 21,
   "id": "5305f717",
   "metadata": {},
   "outputs": [
    {
     "name": "stdout",
     "output_type": "stream",
     "text": [
      "/net/capricorn/home/xing/huijing/Migration/CC3D_models/(important)Figures_12222021_formal5_hope_force_fpp_scan_w_area/ has 14 files\n"
     ]
    },
    {
     "data": {
      "text/plain": [
       "['/net/capricorn/home/xing/huijing/Migration/CC3D_models/(important)Figures_12222021_formal5_hope_force_fpp_scan_w_area/polarity_31_180.0_0.0.csv',\n",
       " '/net/capricorn/home/xing/huijing/Migration/CC3D_models/(important)Figures_12222021_formal5_hope_force_fpp_scan_w_area/polarity_33_180.0_100.0.csv',\n",
       " '/net/capricorn/home/xing/huijing/Migration/CC3D_models/(important)Figures_12222021_formal5_hope_force_fpp_scan_w_area/polarity_36_180.0_200.0.csv',\n",
       " '/net/capricorn/home/xing/huijing/Migration/CC3D_models/(important)Figures_12222021_formal5_hope_force_fpp_scan_w_area/polarity_38_180.0_300.0.csv',\n",
       " '/net/capricorn/home/xing/huijing/Migration/CC3D_models/(important)Figures_12222021_formal5_hope_force_fpp_scan_w_area/polarity_40_180.0_400.0.csv',\n",
       " '/net/capricorn/home/xing/huijing/Migration/CC3D_models/(important)Figures_12222021_formal5_hope_force_fpp_scan_w_area/polarity_42_180.0_500.0.csv']"
      ]
     },
     "execution_count": 21,
     "metadata": {},
     "output_type": "execute_result"
    }
   ],
   "source": [
    "figfolder = \"/net/capricorn/home/xing/huijing/Migration/CC3D_models/(important)Figures_12222021_formal5_hope_force_fpp_scan_w_area/\"\n",
    "polar_files = pipe_util2.folder_file_num(figfolder, \"polarity*180\")\n",
    "polar_files = pipe_util2.list_select_by_index(polar_files, [0,2,4,6,8,10])\n",
    "polar_files"
   ]
  },
  {
   "cell_type": "code",
   "execution_count": 22,
   "id": "4db1e8a4",
   "metadata": {},
   "outputs": [
    {
     "data": {
      "image/png": "[encoded data removed]",
      "text/plain": [
       "<Figure size 360x288 with 1 Axes>"
      ]
     },
     "metadata": {},
     "output_type": "display_data"
    }
   ],
   "source": [
    "fpp = [0,100,200,300,400,500]\n",
    "\n",
    "fig = plt.figure(figsize = (5,4))\n",
    "ax = fig.add_subplot(111)\n",
    "\n",
    "colors = plt.cm.rainbow(np.linspace(0,1,6))\n",
    "i = 0\n",
    "while i<len(polar_files):\n",
    "    f = polar_files[i]\n",
    "    df = pd.read_csv(f, index_col=0)\n",
    "    traj = df.values.mean(axis=1)[:-2]\n",
    "    plt.plot(traj, color = colors[i], label = r\"$\\lambda_{fpp}$=%s\"%fpp[i])\n",
    "    plt.legend(fontsize=12)\n",
    "    plt.xlabel(r\"Time, MCS\", fontsize=20)\n",
    "    plt.ylabel(r'Polarity $\\phi$', fontsize = 20)\n",
    "    \n",
    "    ax.tick_params(axis='x', labelsize=16)  # only affects\n",
    "    ax.tick_params(axis='y', labelsize=16)  # tick labels\n",
    "    \n",
    "    i = i+1\n",
    "plt.savefig(res_folder+\"polarity_trajectories\"+\".pdf\", dpi = 200, bbox_inches = \"tight\")"
   ]
  }
 ],
 "metadata": {
  "kernelspec": {
   "display_name": "Python 3 (ipykernel)",
   "language": "python",
   "name": "python3"
  },
  "language_info": {
   "codemirror_mode": {
    "name": "ipython",
    "version": 3
   },
   "file_extension": ".py",
   "mimetype": "text/x-python",
   "name": "python",
   "nbconvert_exporter": "python",
   "pygments_lexer": "ipython3",
   "version": "3.8.8"
  }
 },
 "nbformat": 4,
 "nbformat_minor": 5
}
