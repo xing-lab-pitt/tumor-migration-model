{
 "cells": [
  {
   "cell_type": "code",
   "execution_count": 1,
   "id": "b872cf65",
   "metadata": {},
   "outputs": [],
   "source": [
    "import numpy as np\n",
    "import pandas as pd\n",
    "import matplotlib.pyplot as plt\n",
    "import pipe_util2"
   ]
  },
  {
   "cell_type": "code",
   "execution_count": 2,
   "id": "c6afb043",
   "metadata": {},
   "outputs": [
    {
     "data": {
      "text/html": [
       "<div>\n",
       "<style scoped>\n",
       "    .dataframe tbody tr th:only-of-type {\n",
       "        vertical-align: middle;\n",
       "    }\n",
       "\n",
       "    .dataframe tbody tr th {\n",
       "        vertical-align: top;\n",
       "    }\n",
       "\n",
       "    .dataframe thead th {\n",
       "        text-align: right;\n",
       "    }\n",
       "</style>\n",
       "<table border=\"1\" class=\"dataframe\">\n",
       "  <thead>\n",
       "    <tr style=\"text-align: right;\">\n",
       "      <th></th>\n",
       "      <th>150CM vs 150D6</th>\n",
       "      <th>NES</th>\n",
       "      <th>Size</th>\n",
       "    </tr>\n",
       "  </thead>\n",
       "  <tbody>\n",
       "    <tr>\n",
       "      <th>0</th>\n",
       "      <td>GO_POSITIVE_REGULATION_OF_CYTOSKELETON_ORGANIZ...</td>\n",
       "      <td>1.701487</td>\n",
       "      <td>5</td>\n",
       "    </tr>\n",
       "    <tr>\n",
       "      <th>1</th>\n",
       "      <td>GO_ACTIN_FILAMENT_ORGANIZATION</td>\n",
       "      <td>1.654707</td>\n",
       "      <td>6</td>\n",
       "    </tr>\n",
       "    <tr>\n",
       "      <th>2</th>\n",
       "      <td>GO_SUPRAMOLECULAR_FIBER_ORGANIZATION</td>\n",
       "      <td>1.161885</td>\n",
       "      <td>23</td>\n",
       "    </tr>\n",
       "  </tbody>\n",
       "</table>\n",
       "</div>"
      ],
      "text/plain": [
       "                                      150CM vs 150D6       NES  Size\n",
       "0  GO_POSITIVE_REGULATION_OF_CYTOSKELETON_ORGANIZ...  1.701487     5\n",
       "1                     GO_ACTIN_FILAMENT_ORGANIZATION  1.654707     6\n",
       "2               GO_SUPRAMOLECULAR_FIBER_ORGANIZATION  1.161885    23"
      ]
     },
     "execution_count": 2,
     "metadata": {},
     "output_type": "execute_result"
    }
   ],
   "source": [
    "enrich_150cm_150d6_file = \"data_for_volcano_plot/150CM_vs_150D6.csv\"\n",
    "enrich_150cm_150d6 = pd.read_csv(enrich_150cm_150d6_file, header = 0)\n",
    "enrich_150cm_150d6.head(3)"
   ]
  },
  {
   "cell_type": "code",
   "execution_count": 3,
   "id": "e8653ca2",
   "metadata": {},
   "outputs": [
    {
     "data": {
      "text/plain": [
       "0      Positive regulation of cytoskeleton organization\n",
       "1                           Actin filament organization\n",
       "2                     Supramolecular fiber organization\n",
       "3                                 Membrane organization\n",
       "4                         Epithelial tube morphogenesis\n",
       "5               Regulation of cytoskeleton organization\n",
       "6                          Actin filament based process\n",
       "7                                   Cilium organization\n",
       "8     Regulation of microtubule polymerization or de...\n",
       "9            Regulation of actin filament based process\n",
       "10       Microtubule polymerization or depolymerization\n",
       "11                Establishment of localization in cell\n",
       "12                             Cell projection assembly\n",
       "13        Establishment or maintenance of cell polarity\n",
       "14            Negative regulation of cell cell adhesion\n",
       "15                 Extracellular structure organization\n",
       "16               Regulation of cell projection assembly\n",
       "17                 Epithelial to mesenchymal transition\n",
       "18                    Positive regulation of locomotion\n",
       "19                               Cell junction assembly\n",
       "20                                   Cell cell adhesion\n",
       "21                           Cell junction organization\n",
       "22                                  Biological adhesion\n",
       "23                      Cell cell junction organization\n",
       "Name: 150CM vs 150D6, dtype: object"
      ]
     },
     "execution_count": 3,
     "metadata": {},
     "output_type": "execute_result"
    }
   ],
   "source": [
    "go_terms = enrich_150cm_150d6[\"150CM vs 150D6\"].str[3:]\n",
    "go_terms = go_terms.str.replace(\"_\", \" \", regex=False)\n",
    "go_terms = go_terms.str.capitalize()\n",
    "go_terms"
   ]
  },
  {
   "cell_type": "code",
   "execution_count": 4,
   "id": "f905327e",
   "metadata": {},
   "outputs": [
    {
     "data": {
      "text/html": [
       "<div>\n",
       "<style scoped>\n",
       "    .dataframe tbody tr th:only-of-type {\n",
       "        vertical-align: middle;\n",
       "    }\n",
       "\n",
       "    .dataframe tbody tr th {\n",
       "        vertical-align: top;\n",
       "    }\n",
       "\n",
       "    .dataframe thead th {\n",
       "        text-align: right;\n",
       "    }\n",
       "</style>\n",
       "<table border=\"1\" class=\"dataframe\">\n",
       "  <thead>\n",
       "    <tr style=\"text-align: right;\">\n",
       "      <th></th>\n",
       "      <th>150CM vs 150D6</th>\n",
       "      <th>NES</th>\n",
       "      <th>Size</th>\n",
       "    </tr>\n",
       "  </thead>\n",
       "  <tbody>\n",
       "    <tr>\n",
       "      <th>0</th>\n",
       "      <td>Positive regulation of cytoskeleton organization</td>\n",
       "      <td>1.701487</td>\n",
       "      <td>5</td>\n",
       "    </tr>\n",
       "    <tr>\n",
       "      <th>1</th>\n",
       "      <td>Actin filament organization</td>\n",
       "      <td>1.654707</td>\n",
       "      <td>6</td>\n",
       "    </tr>\n",
       "    <tr>\n",
       "      <th>2</th>\n",
       "      <td>Supramolecular fiber organization</td>\n",
       "      <td>1.161885</td>\n",
       "      <td>23</td>\n",
       "    </tr>\n",
       "  </tbody>\n",
       "</table>\n",
       "</div>"
      ],
      "text/plain": [
       "                                     150CM vs 150D6       NES  Size\n",
       "0  Positive regulation of cytoskeleton organization  1.701487     5\n",
       "1                       Actin filament organization  1.654707     6\n",
       "2                 Supramolecular fiber organization  1.161885    23"
      ]
     },
     "execution_count": 4,
     "metadata": {},
     "output_type": "execute_result"
    }
   ],
   "source": [
    "enrich_150cm_150d6[\"150CM vs 150D6\"] = go_terms\n",
    "enrich_150cm_150d6.sort_values(by=\"NES\", ascending=False, inplace = True)\n",
    "enrich_150cm_150d6.head(3)"
   ]
  },
  {
   "cell_type": "code",
   "execution_count": 5,
   "id": "5f6c352d",
   "metadata": {},
   "outputs": [
    {
     "data": {
      "text/plain": [
       "'150CM vs 150D6'"
      ]
     },
     "execution_count": 5,
     "metadata": {},
     "output_type": "execute_result"
    }
   ],
   "source": [
    "enrich_150cm_150d6.columns[0]"
   ]
  },
  {
   "cell_type": "code",
   "execution_count": 6,
   "id": "fd9d0ee8",
   "metadata": {},
   "outputs": [],
   "source": [
    "import matplotlib as mpl\n",
    "import matplotlib.cm as cm\n",
    "from matplotlib.cm import ScalarMappable\n",
    "from mpl_toolkits.axes_grid1.axes_divider import make_axes_locatable"
   ]
  },
  {
   "cell_type": "code",
   "execution_count": 7,
   "id": "38ac36c5",
   "metadata": {},
   "outputs": [
    {
     "data": {
      "image/png": "[encoded data removed]",
      "text/plain": [
       "<Figure size 504x360 with 2 Axes>"
      ]
     },
     "metadata": {
      "needs_background": "light"
     },
     "output_type": "display_data"
    }
   ],
   "source": [
    "def draw_hbar(df_input, w = 7, h = 5):\n",
    "    \"\"\"\n",
    "    df_input - input dataframe, including column go terms, NES and Size\"\"\"\n",
    "    \n",
    "    df = df_input.copy()\n",
    "    norm = mpl.colors.Normalize(vmin = -2, vmax = 2)\n",
    "    cmap = cm.bwr\n",
    "    \n",
    "    df.loc[df.NES<0,\"Size\"] = df[df.NES<0].Size*(-1.)\n",
    "    \n",
    "    fig = plt.figure(figsize=(w, h))\n",
    "    ax = plt.subplot(111)\n",
    "    \n",
    "    y_label = df[df.columns[0]]\n",
    "    y_pos = np.arange(df.shape[0])*1.5\n",
    "    \n",
    "    x_val = df.Size\n",
    "    \n",
    "#     print(df.NES)\n",
    "    \n",
    "    ax.barh(y_pos, x_val, \n",
    "            color=cmap(df.NES),\n",
    "            height=1, align = \"center\")\n",
    "    \n",
    "    for i, v in enumerate(y_pos):\n",
    "        if x_val[i]>0:\n",
    "            ax.text(x_val[i]+1, v + .25, str(round(x_val[i])), \n",
    "                    color='k', fontsize=8)\n",
    "        if x_val[i]<0:\n",
    "            ax.text(x_val[i]-6, v + .25, str(round(x_val[i]*(-1.))), \n",
    "                    color='k', fontsize=8)\n",
    "    \n",
    "    # colorbar\n",
    "    sm = ScalarMappable(cmap=cmap, norm=norm)\n",
    "    sm.set_array([]) \n",
    "    divider = make_axes_locatable(ax)\n",
    "    cax = divider.append_axes(\"right\", size=\"5%\", pad=0.15)\n",
    "    cbar = plt.colorbar(sm, cax = cax)\n",
    "    cbar.set_label('NES', rotation=270, labelpad=9)\n",
    "    cbar.outline.set_visible(False)\n",
    "\n",
    "    ax.set_yticks(y_pos, labels = y_label, fontsize = 9)\n",
    "    ax.set_xlabel(\"Gene number\")\n",
    "    ax.set_xlim([-39,30])\n",
    "    \n",
    "    ax.invert_yaxis()  # labels read top-to-bottom\n",
    "    \n",
    "    ax.spines['top'].set_visible(False)\n",
    "    ax.spines['right'].set_visible(False)\n",
    "    ax.spines['bottom'].set_visible(True)\n",
    "    ax.spines['left'].set_visible(True)\n",
    "    \n",
    "#     ax.set_aspect(2)\n",
    "    \n",
    "    plt.tight_layout()\n",
    "#     plt.show()\n",
    "    plt.savefig(\"GO enrichment.png\", dpi=200)\n",
    "    \n",
    "draw_hbar(enrich_150cm_150d6)"
   ]
  },
  {
   "cell_type": "code",
   "execution_count": null,
   "id": "a4a38058",
   "metadata": {},
   "outputs": [],
   "source": []
  },
  {
   "cell_type": "code",
   "execution_count": null,
   "id": "d5479e51",
   "metadata": {},
   "outputs": [],
   "source": []
  }
 ],
 "metadata": {
  "kernelspec": {
   "display_name": "Python 3 (ipykernel)",
   "language": "python",
   "name": "python3"
  },
  "language_info": {
   "codemirror_mode": {
    "name": "ipython",
    "version": 3
   },
   "file_extension": ".py",
   "mimetype": "text/x-python",
   "name": "python",
   "nbconvert_exporter": "python",
   "pygments_lexer": "ipython3",
   "version": "3.8.12"
  }
 },
 "nbformat": 4,
 "nbformat_minor": 5
}
