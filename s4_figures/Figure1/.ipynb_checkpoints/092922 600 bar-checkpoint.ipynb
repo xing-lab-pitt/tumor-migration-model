{
 "cells": [
  {
   "cell_type": "code",
   "execution_count": 35,
   "id": "17c008c5",
   "metadata": {},
   "outputs": [],
   "source": [
    "import numpy as np\n",
    "import pandas as pd\n",
    "import matplotlib.pyplot as plt\n",
    "import pipe_util2"
   ]
  },
  {
   "cell_type": "code",
   "execution_count": 36,
   "id": "1ab39782",
   "metadata": {},
   "outputs": [
    {
     "data": {
      "text/html": [
       "<div>\n",
       "<style scoped>\n",
       "    .dataframe tbody tr th:only-of-type {\n",
       "        vertical-align: middle;\n",
       "    }\n",
       "\n",
       "    .dataframe tbody tr th {\n",
       "        vertical-align: top;\n",
       "    }\n",
       "\n",
       "    .dataframe thead th {\n",
       "        text-align: right;\n",
       "    }\n",
       "</style>\n",
       "<table border=\"1\" class=\"dataframe\">\n",
       "  <thead>\n",
       "    <tr style=\"text-align: right;\">\n",
       "      <th></th>\n",
       "      <th>600D6 vs 150D6</th>\n",
       "      <th>NES</th>\n",
       "      <th>Size</th>\n",
       "    </tr>\n",
       "  </thead>\n",
       "  <tbody>\n",
       "    <tr>\n",
       "      <th>0</th>\n",
       "      <td>GO_POSITIVE_REGULATION_OF_LOCOMOTION</td>\n",
       "      <td>1.990480</td>\n",
       "      <td>66</td>\n",
       "    </tr>\n",
       "    <tr>\n",
       "      <th>1</th>\n",
       "      <td>GO_EPITHELIAL_TO_MESENCHYMAL_TRANSITION</td>\n",
       "      <td>1.341778</td>\n",
       "      <td>17</td>\n",
       "    </tr>\n",
       "    <tr>\n",
       "      <th>2</th>\n",
       "      <td>GO_REGULATION_OF_CELL_PROJECTION_ASSEMBLY</td>\n",
       "      <td>0.818372</td>\n",
       "      <td>23</td>\n",
       "    </tr>\n",
       "  </tbody>\n",
       "</table>\n",
       "</div>"
      ],
      "text/plain": [
       "                              600D6 vs 150D6       NES  Size\n",
       "0       GO_POSITIVE_REGULATION_OF_LOCOMOTION  1.990480    66\n",
       "1    GO_EPITHELIAL_TO_MESENCHYMAL_TRANSITION  1.341778    17\n",
       "2  GO_REGULATION_OF_CELL_PROJECTION_ASSEMBLY  0.818372    23"
      ]
     },
     "execution_count": 36,
     "metadata": {},
     "output_type": "execute_result"
    }
   ],
   "source": [
    "enrich_600_150d6_file = \"data_for_volcano_plot/600D6_vs_150D6.csv\"\n",
    "enrich_600_150d6 = pd.read_csv(enrich_600_150d6_file, header = 0)\n",
    "enrich_600_150d6.head(3)"
   ]
  },
  {
   "cell_type": "code",
   "execution_count": 37,
   "id": "fadcffc8",
   "metadata": {},
   "outputs": [
    {
     "data": {
      "text/plain": [
       "0                     Positive regulation of locomotion\n",
       "1                  Epithelial to mesenchymal transition\n",
       "2                Regulation of cell projection assembly\n",
       "3                                    Cell cell adhesion\n",
       "4             Negative regulation of cell cell adhesion\n",
       "5                            Cell junction organization\n",
       "6                       Cell cell junction organization\n",
       "7                                Cell junction assembly\n",
       "8                                   Biological adhesion\n",
       "9                  Extracellular structure organization\n",
       "10               Regulation of cell projection assembly\n",
       "11                                  Cilium organization\n",
       "12        Establishment or maintenance of cell polarity\n",
       "13                             Cell projection assembly\n",
       "14                        Epithelial tube morphogenesis\n",
       "15                    Supramolecular fiber organization\n",
       "16    Regulation of microtubule polymerization or de...\n",
       "17                          Actin filament organization\n",
       "18       Microtubule polymerization or depolymerization\n",
       "19                         Actin filament based process\n",
       "20           Regulation of actin filament based process\n",
       "21              Regulation of cytoskeleton organization\n",
       "22     Positive regulation of cytoskeleton organization\n",
       "23                Establishment of localization in cell\n",
       "24                                Membrane organization\n",
       "Name: 600D6 vs 150D6, dtype: object"
      ]
     },
     "execution_count": 37,
     "metadata": {},
     "output_type": "execute_result"
    }
   ],
   "source": [
    "go_terms = enrich_600_150d6[\"600D6 vs 150D6\"].str[3:]\n",
    "go_terms = go_terms.str.replace(\"_\", \" \", regex=False)\n",
    "go_terms = go_terms.str.capitalize()\n",
    "go_terms"
   ]
  },
  {
   "cell_type": "code",
   "execution_count": 38,
   "id": "7427d87c",
   "metadata": {},
   "outputs": [
    {
     "data": {
      "text/html": [
       "<div>\n",
       "<style scoped>\n",
       "    .dataframe tbody tr th:only-of-type {\n",
       "        vertical-align: middle;\n",
       "    }\n",
       "\n",
       "    .dataframe tbody tr th {\n",
       "        vertical-align: top;\n",
       "    }\n",
       "\n",
       "    .dataframe thead th {\n",
       "        text-align: right;\n",
       "    }\n",
       "</style>\n",
       "<table border=\"1\" class=\"dataframe\">\n",
       "  <thead>\n",
       "    <tr style=\"text-align: right;\">\n",
       "      <th></th>\n",
       "      <th>600D6 vs 150D6</th>\n",
       "      <th>NES</th>\n",
       "      <th>Size</th>\n",
       "    </tr>\n",
       "  </thead>\n",
       "  <tbody>\n",
       "    <tr>\n",
       "      <th>4</th>\n",
       "      <td>Negative regulation of cell cell adhesion</td>\n",
       "      <td>2.194488</td>\n",
       "      <td>19</td>\n",
       "    </tr>\n",
       "    <tr>\n",
       "      <th>8</th>\n",
       "      <td>Biological adhesion</td>\n",
       "      <td>2.023021</td>\n",
       "      <td>131</td>\n",
       "    </tr>\n",
       "    <tr>\n",
       "      <th>0</th>\n",
       "      <td>Positive regulation of locomotion</td>\n",
       "      <td>1.990480</td>\n",
       "      <td>66</td>\n",
       "    </tr>\n",
       "  </tbody>\n",
       "</table>\n",
       "</div>"
      ],
      "text/plain": [
       "                              600D6 vs 150D6       NES  Size\n",
       "4  Negative regulation of cell cell adhesion  2.194488    19\n",
       "8                        Biological adhesion  2.023021   131\n",
       "0          Positive regulation of locomotion  1.990480    66"
      ]
     },
     "execution_count": 38,
     "metadata": {},
     "output_type": "execute_result"
    }
   ],
   "source": [
    "enrich_600_150d6[\"600D6 vs 150D6\"] = go_terms\n",
    "enrich_600_150d6.sort_values(by=\"NES\", ascending=False, inplace = True)\n",
    "enrich_600_150d6.head(3)\n"
   ]
  },
  {
   "cell_type": "code",
   "execution_count": 39,
   "id": "8d837e09",
   "metadata": {},
   "outputs": [
    {
     "data": {
      "text/plain": [
       "'600D6 vs 150D6'"
      ]
     },
     "execution_count": 39,
     "metadata": {},
     "output_type": "execute_result"
    }
   ],
   "source": [
    "enrich_600_150d6.columns[0]"
   ]
  },
  {
   "cell_type": "code",
   "execution_count": 40,
   "id": "a42c2931",
   "metadata": {},
   "outputs": [],
   "source": [
    "import matplotlib as mpl\n",
    "import matplotlib.cm as cm\n",
    "from matplotlib.cm import ScalarMappable\n",
    "from mpl_toolkits.axes_grid1.axes_divider import make_axes_locatable"
   ]
  },
  {
   "cell_type": "code",
   "execution_count": 49,
   "id": "d32526e7",
   "metadata": {},
   "outputs": [
    {
     "name": "stderr",
     "output_type": "stream",
     "text": [
      "/var/folders/rn/976tcqj534x3_ffkt7n_95q00000gq/T/ipykernel_11660/2663204293.py:57: MatplotlibDeprecationWarning: savefig() got unexpected keyword argument \"h\" which is no longer supported as of 3.3 and will become an error in 3.6\n",
      "  plt.savefig(filename, dpi=200, h=9)\n"
     ]
    },
    {
     "data": {
      "image/png": "[encoded data removed]",
      "text/plain": [
       "<Figure size 504x360 with 2 Axes>"
      ]
     },
     "metadata": {
      "needs_background": "light"
     },
     "output_type": "display_data"
    }
   ],
   "source": [
    "def draw_hbar(df_input, filename, w = 7, h = 5):\n",
    "    \"\"\"\n",
    "    df_input - input dataframe, including column go terms, NES and Size\"\"\"\n",
    "    \n",
    "    df = df_input.copy()\n",
    "    norm = mpl.colors.Normalize(vmin = -2, vmax = 2)\n",
    "    cmap = cm.bwr\n",
    "    \n",
    "    df.loc[df.NES<0,\"Size\"] = df[df.NES<0].Size*(-1.)\n",
    "    \n",
    "    fig = plt.figure(figsize=(w, h))\n",
    "    ax = plt.subplot(111)\n",
    "    \n",
    "    y_label = df[df.columns[0]]\n",
    "    y_pos = np.arange(df.shape[0])*1.5\n",
    "    \n",
    "    x_val = df.Size.values\n",
    "    \n",
    "#     print(df.NES)\n",
    "    \n",
    "    ax.barh(y_pos, x_val, \n",
    "            color=cmap(df.NES),\n",
    "            height=1, align = \"center\")\n",
    "    \n",
    "    for i, v in enumerate(y_pos):\n",
    "        if x_val[i]>0:\n",
    "            ax.text(x_val[i]+1, v + .25, str(round(x_val[i])), \n",
    "                    color='k', fontsize=8)\n",
    "        if x_val[i]<0:\n",
    "            ax.text(x_val[i]-25, v + .25, str(round(x_val[i]*(-1.))), \n",
    "                    color='k', fontsize=8)\n",
    "    \n",
    "    # colorbar\n",
    "    sm = ScalarMappable(cmap=cmap, norm=norm)\n",
    "    sm.set_array([]) \n",
    "    divider = make_axes_locatable(ax)\n",
    "    cax = divider.append_axes(\"right\", size=\"5%\", pad=0.15)\n",
    "    cbar = plt.colorbar(sm, cax = cax)\n",
    "    cbar.set_label('NES', rotation=270, labelpad=9)\n",
    "    cbar.outline.set_visible(False)\n",
    "\n",
    "    ax.set_yticks(y_pos, labels = y_label, fontsize = 9)\n",
    "    ax.set_xlabel(\"Gene number\")\n",
    "    ax.set_xlim([-150,150])\n",
    "    \n",
    "    ax.invert_yaxis()  # labels read top-to-bottom\n",
    "    \n",
    "    ax.spines['top'].set_visible(False)\n",
    "    ax.spines['right'].set_visible(False)\n",
    "    ax.spines['bottom'].set_visible(True)\n",
    "    ax.spines['left'].set_visible(True)\n",
    "    \n",
    "#     ax.set_aspect(2)\n",
    "    \n",
    "    plt.tight_layout()\n",
    "#     plt.show()\n",
    "    plt.savefig(filename, dpi=200, h=9)\n",
    "    \n",
    "draw_hbar(enrich_600_150d6, \"enrich_600_150d6_bar.png\")\n",
    "\n"
   ]
  },
  {
   "cell_type": "code",
   "execution_count": null,
   "id": "b6871bff",
   "metadata": {},
   "outputs": [],
   "source": []
  }
 ],
 "metadata": {
  "kernelspec": {
   "display_name": "Python 3 (ipykernel)",
   "language": "python",
   "name": "python3"
  },
  "language_info": {
   "codemirror_mode": {
    "name": "ipython",
    "version": 3
   },
   "file_extension": ".py",
   "mimetype": "text/x-python",
   "name": "python",
   "nbconvert_exporter": "python",
   "pygments_lexer": "ipython3",
   "version": "3.8.12"
  }
 },
 "nbformat": 4,
 "nbformat_minor": 5
}
