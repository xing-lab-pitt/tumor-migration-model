{
 "cells": [
  {
   "cell_type": "markdown",
   "id": "1bcf2154",
   "metadata": {},
   "source": [
    "This notebook processes gene enrichment data and generates bar plot."
   ]
  },
  {
   "cell_type": "code",
   "execution_count": 1,
   "id": "b872cf65",
   "metadata": {},
   "outputs": [],
   "source": [
    "import numpy as np\n",
    "import pandas as pd\n",
    "import matplotlib.pyplot as plt\n",
    "import pipe_util2"
   ]
  },
  {
   "cell_type": "markdown",
   "id": "72b15420",
   "metadata": {},
   "source": [
    "# Load 150CM data "
   ]
  },
  {
   "cell_type": "code",
   "execution_count": 2,
   "id": "c6afb043",
   "metadata": {},
   "outputs": [
    {
     "data": {
      "text/html": [
       "<div>\n",
       "<style scoped>\n",
       "    .dataframe tbody tr th:only-of-type {\n",
       "        vertical-align: middle;\n",
       "    }\n",
       "\n",
       "    .dataframe tbody tr th {\n",
       "        vertical-align: top;\n",
       "    }\n",
       "\n",
       "    .dataframe thead th {\n",
       "        text-align: right;\n",
       "    }\n",
       "</style>\n",
       "<table border=\"1\" class=\"dataframe\">\n",
       "  <thead>\n",
       "    <tr style=\"text-align: right;\">\n",
       "      <th></th>\n",
       "      <th>150CM vs 150D6</th>\n",
       "      <th>NES</th>\n",
       "      <th>Size</th>\n",
       "    </tr>\n",
       "  </thead>\n",
       "  <tbody>\n",
       "    <tr>\n",
       "      <th>0</th>\n",
       "      <td>GO_POSITIVE_REGULATION_OF_CYTOSKELETON_ORGANIZ...</td>\n",
       "      <td>1.701487</td>\n",
       "      <td>5</td>\n",
       "    </tr>\n",
       "    <tr>\n",
       "      <th>1</th>\n",
       "      <td>GO_ACTIN_FILAMENT_ORGANIZATION</td>\n",
       "      <td>1.654707</td>\n",
       "      <td>6</td>\n",
       "    </tr>\n",
       "    <tr>\n",
       "      <th>2</th>\n",
       "      <td>GO_SUPRAMOLECULAR_FIBER_ORGANIZATION</td>\n",
       "      <td>1.161885</td>\n",
       "      <td>23</td>\n",
       "    </tr>\n",
       "  </tbody>\n",
       "</table>\n",
       "</div>"
      ],
      "text/plain": [
       "                                      150CM vs 150D6       NES  Size\n",
       "0  GO_POSITIVE_REGULATION_OF_CYTOSKELETON_ORGANIZ...  1.701487     5\n",
       "1                     GO_ACTIN_FILAMENT_ORGANIZATION  1.654707     6\n",
       "2               GO_SUPRAMOLECULAR_FIBER_ORGANIZATION  1.161885    23"
      ]
     },
     "execution_count": 2,
     "metadata": {},
     "output_type": "execute_result"
    }
   ],
   "source": [
    "enrich_150cm_150d6_file = \"data_for_volcano_plot/150CM_vs_150D6.csv\"\n",
    "enrich_150cm_150d6 = pd.read_csv(enrich_150cm_150d6_file, header = 0)\n",
    "enrich_150cm_150d6.head(3)"
   ]
  },
  {
   "cell_type": "code",
   "execution_count": 3,
   "id": "e8653ca2",
   "metadata": {},
   "outputs": [
    {
     "data": {
      "text/plain": [
       "6                          Actin filament based process\n",
       "1                           Actin filament organization\n",
       "22                                  Biological adhesion\n",
       "20                                   Cell cell adhesion\n",
       "23                      Cell cell junction organization\n",
       "19                               Cell junction assembly\n",
       "21                           Cell junction organization\n",
       "12                             Cell projection assembly\n",
       "7                                   Cilium organization\n",
       "17                 Epithelial to mesenchymal transition\n",
       "4                         Epithelial tube morphogenesis\n",
       "11                Establishment of localization in cell\n",
       "13        Establishment or maintenance of cell polarity\n",
       "15                 Extracellular structure organization\n",
       "3                                 Membrane organization\n",
       "10       Microtubule polymerization or depolymerization\n",
       "14            Negative regulation of cell cell adhesion\n",
       "0      Positive regulation of cytoskeleton organization\n",
       "18                    Positive regulation of locomotion\n",
       "9            Regulation of actin filament based process\n",
       "16               Regulation of cell projection assembly\n",
       "5               Regulation of cytoskeleton organization\n",
       "8     Regulation of microtubule polymerization or de...\n",
       "2                     Supramolecular fiber organization\n",
       "Name: 150CM vs 150D6, dtype: object"
      ]
     },
     "execution_count": 3,
     "metadata": {},
     "output_type": "execute_result"
    }
   ],
   "source": [
    "go_terms_150 = enrich_150cm_150d6[\"150CM vs 150D6\"].str[3:]\n",
    "go_terms_150 = go_terms_150.str.replace(\"_\", \" \", regex=False)\n",
    "go_terms_150 = go_terms_150.str.capitalize()\n",
    "go_terms_150.sort_values()"
   ]
  },
  {
   "cell_type": "markdown",
   "id": "f6be9396",
   "metadata": {},
   "source": [
    "# load 600 data"
   ]
  },
  {
   "cell_type": "code",
   "execution_count": 4,
   "id": "944ed498",
   "metadata": {},
   "outputs": [
    {
     "data": {
      "text/html": [
       "<div>\n",
       "<style scoped>\n",
       "    .dataframe tbody tr th:only-of-type {\n",
       "        vertical-align: middle;\n",
       "    }\n",
       "\n",
       "    .dataframe tbody tr th {\n",
       "        vertical-align: top;\n",
       "    }\n",
       "\n",
       "    .dataframe thead th {\n",
       "        text-align: right;\n",
       "    }\n",
       "</style>\n",
       "<table border=\"1\" class=\"dataframe\">\n",
       "  <thead>\n",
       "    <tr style=\"text-align: right;\">\n",
       "      <th></th>\n",
       "      <th>600D6 vs 150D6</th>\n",
       "      <th>NES</th>\n",
       "      <th>Size</th>\n",
       "    </tr>\n",
       "  </thead>\n",
       "  <tbody>\n",
       "    <tr>\n",
       "      <th>0</th>\n",
       "      <td>GO_POSITIVE_REGULATION_OF_LOCOMOTION</td>\n",
       "      <td>1.990480</td>\n",
       "      <td>66</td>\n",
       "    </tr>\n",
       "    <tr>\n",
       "      <th>1</th>\n",
       "      <td>GO_EPITHELIAL_TO_MESENCHYMAL_TRANSITION</td>\n",
       "      <td>1.341778</td>\n",
       "      <td>17</td>\n",
       "    </tr>\n",
       "    <tr>\n",
       "      <th>2</th>\n",
       "      <td>GO_REGULATION_OF_CELL_PROJECTION_ASSEMBLY</td>\n",
       "      <td>0.818372</td>\n",
       "      <td>23</td>\n",
       "    </tr>\n",
       "  </tbody>\n",
       "</table>\n",
       "</div>"
      ],
      "text/plain": [
       "                              600D6 vs 150D6       NES  Size\n",
       "0       GO_POSITIVE_REGULATION_OF_LOCOMOTION  1.990480    66\n",
       "1    GO_EPITHELIAL_TO_MESENCHYMAL_TRANSITION  1.341778    17\n",
       "2  GO_REGULATION_OF_CELL_PROJECTION_ASSEMBLY  0.818372    23"
      ]
     },
     "execution_count": 4,
     "metadata": {},
     "output_type": "execute_result"
    }
   ],
   "source": [
    "enrich_600_150d6_file = \"data_for_volcano_plot/600D6_vs_150D6.csv\"\n",
    "enrich_600_150d6 = pd.read_csv(enrich_600_150d6_file, header = 0)\n",
    "enrich_600_150d6.head(3)"
   ]
  },
  {
   "cell_type": "code",
   "execution_count": 6,
   "id": "7f949e7c",
   "metadata": {},
   "outputs": [
    {
     "data": {
      "text/html": [
       "<div>\n",
       "<style scoped>\n",
       "    .dataframe tbody tr th:only-of-type {\n",
       "        vertical-align: middle;\n",
       "    }\n",
       "\n",
       "    .dataframe tbody tr th {\n",
       "        vertical-align: top;\n",
       "    }\n",
       "\n",
       "    .dataframe thead th {\n",
       "        text-align: right;\n",
       "    }\n",
       "</style>\n",
       "<table border=\"1\" class=\"dataframe\">\n",
       "  <thead>\n",
       "    <tr style=\"text-align: right;\">\n",
       "      <th></th>\n",
       "      <th>600D6 vs 150D6</th>\n",
       "      <th>NES</th>\n",
       "      <th>Size</th>\n",
       "    </tr>\n",
       "  </thead>\n",
       "  <tbody>\n",
       "    <tr>\n",
       "      <th>0</th>\n",
       "      <td>GO_POSITIVE_REGULATION_OF_LOCOMOTION</td>\n",
       "      <td>1.990480</td>\n",
       "      <td>66</td>\n",
       "    </tr>\n",
       "    <tr>\n",
       "      <th>1</th>\n",
       "      <td>GO_EPITHELIAL_TO_MESENCHYMAL_TRANSITION</td>\n",
       "      <td>1.341778</td>\n",
       "      <td>17</td>\n",
       "    </tr>\n",
       "    <tr>\n",
       "      <th>2</th>\n",
       "      <td>GO_REGULATION_OF_CELL_PROJECTION_ASSEMBLY</td>\n",
       "      <td>0.818372</td>\n",
       "      <td>23</td>\n",
       "    </tr>\n",
       "    <tr>\n",
       "      <th>3</th>\n",
       "      <td>GO_CELL_CELL_ADHESION</td>\n",
       "      <td>1.742446</td>\n",
       "      <td>70</td>\n",
       "    </tr>\n",
       "    <tr>\n",
       "      <th>4</th>\n",
       "      <td>GO_NEGATIVE_REGULATION_OF_CELL_CELL_ADHESION</td>\n",
       "      <td>2.194488</td>\n",
       "      <td>19</td>\n",
       "    </tr>\n",
       "    <tr>\n",
       "      <th>5</th>\n",
       "      <td>GO_CELL_JUNCTION_ORGANIZATION</td>\n",
       "      <td>0.813762</td>\n",
       "      <td>38</td>\n",
       "    </tr>\n",
       "    <tr>\n",
       "      <th>6</th>\n",
       "      <td>GO_CELL_CELL_JUNCTION_ORGANIZATION</td>\n",
       "      <td>0.918560</td>\n",
       "      <td>23</td>\n",
       "    </tr>\n",
       "    <tr>\n",
       "      <th>7</th>\n",
       "      <td>GO_CELL_JUNCTION_ASSEMBLY</td>\n",
       "      <td>0.978226</td>\n",
       "      <td>31</td>\n",
       "    </tr>\n",
       "    <tr>\n",
       "      <th>8</th>\n",
       "      <td>GO_BIOLOGICAL_ADHESION</td>\n",
       "      <td>2.023021</td>\n",
       "      <td>131</td>\n",
       "    </tr>\n",
       "    <tr>\n",
       "      <th>9</th>\n",
       "      <td>GO_EXTRACELLULAR_STRUCTURE_ORGANIZATION</td>\n",
       "      <td>1.318490</td>\n",
       "      <td>38</td>\n",
       "    </tr>\n",
       "    <tr>\n",
       "      <th>10</th>\n",
       "      <td>GO_CILIUM_ORGANIZATION</td>\n",
       "      <td>-1.504801</td>\n",
       "      <td>44</td>\n",
       "    </tr>\n",
       "    <tr>\n",
       "      <th>11</th>\n",
       "      <td>GO_ESTABLISHMENT_OR_MAINTENANCE_OF_CELL_POLARITY</td>\n",
       "      <td>-1.487616</td>\n",
       "      <td>32</td>\n",
       "    </tr>\n",
       "    <tr>\n",
       "      <th>12</th>\n",
       "      <td>GO_CELL_PROJECTION_ASSEMBLY</td>\n",
       "      <td>-1.395194</td>\n",
       "      <td>71</td>\n",
       "    </tr>\n",
       "    <tr>\n",
       "      <th>13</th>\n",
       "      <td>GO_EPITHELIAL_TUBE_MORPHOGENESIS</td>\n",
       "      <td>-0.953719</td>\n",
       "      <td>41</td>\n",
       "    </tr>\n",
       "    <tr>\n",
       "      <th>14</th>\n",
       "      <td>GO_SUPRAMOLECULAR_FIBER_ORGANIZATION</td>\n",
       "      <td>-0.919405</td>\n",
       "      <td>90</td>\n",
       "    </tr>\n",
       "    <tr>\n",
       "      <th>15</th>\n",
       "      <td>GO_REGULATION_OF_MICROTUBULE_POLYMERIZATION_OR...</td>\n",
       "      <td>-0.676635</td>\n",
       "      <td>17</td>\n",
       "    </tr>\n",
       "    <tr>\n",
       "      <th>16</th>\n",
       "      <td>GO_ACTIN_FILAMENT_ORGANIZATION</td>\n",
       "      <td>-0.956936</td>\n",
       "      <td>52</td>\n",
       "    </tr>\n",
       "    <tr>\n",
       "      <th>17</th>\n",
       "      <td>GO_MICROTUBULE_POLYMERIZATION_OR_DEPOLYMERIZATION</td>\n",
       "      <td>-1.304471</td>\n",
       "      <td>24</td>\n",
       "    </tr>\n",
       "    <tr>\n",
       "      <th>18</th>\n",
       "      <td>GO_ACTIN_FILAMENT_BASED_PROCESS</td>\n",
       "      <td>-0.950535</td>\n",
       "      <td>85</td>\n",
       "    </tr>\n",
       "    <tr>\n",
       "      <th>19</th>\n",
       "      <td>GO_REGULATION_OF_ACTIN_FILAMENT_BASED_PROCESS</td>\n",
       "      <td>-0.973832</td>\n",
       "      <td>53</td>\n",
       "    </tr>\n",
       "    <tr>\n",
       "      <th>20</th>\n",
       "      <td>GO_REGULATION_OF_CYTOSKELETON_ORGANIZATION</td>\n",
       "      <td>-1.900210</td>\n",
       "      <td>93</td>\n",
       "    </tr>\n",
       "    <tr>\n",
       "      <th>21</th>\n",
       "      <td>GO_POSITIVE_REGULATION_OF_CYTOSKELETON_ORGANIZ...</td>\n",
       "      <td>-0.827800</td>\n",
       "      <td>34</td>\n",
       "    </tr>\n",
       "    <tr>\n",
       "      <th>22</th>\n",
       "      <td>GO_ESTABLISHMENT_OF_LOCALIZATION_IN_CELL</td>\n",
       "      <td>-1.719397</td>\n",
       "      <td>84</td>\n",
       "    </tr>\n",
       "    <tr>\n",
       "      <th>23</th>\n",
       "      <td>GO_MEMBRANE_ORGANIZATION</td>\n",
       "      <td>-0.998247</td>\n",
       "      <td>87</td>\n",
       "    </tr>\n",
       "  </tbody>\n",
       "</table>\n",
       "</div>"
      ],
      "text/plain": [
       "                                       600D6 vs 150D6       NES  Size\n",
       "0                GO_POSITIVE_REGULATION_OF_LOCOMOTION  1.990480    66\n",
       "1             GO_EPITHELIAL_TO_MESENCHYMAL_TRANSITION  1.341778    17\n",
       "2           GO_REGULATION_OF_CELL_PROJECTION_ASSEMBLY  0.818372    23\n",
       "3                               GO_CELL_CELL_ADHESION  1.742446    70\n",
       "4        GO_NEGATIVE_REGULATION_OF_CELL_CELL_ADHESION  2.194488    19\n",
       "5                       GO_CELL_JUNCTION_ORGANIZATION  0.813762    38\n",
       "6                  GO_CELL_CELL_JUNCTION_ORGANIZATION  0.918560    23\n",
       "7                           GO_CELL_JUNCTION_ASSEMBLY  0.978226    31\n",
       "8                              GO_BIOLOGICAL_ADHESION  2.023021   131\n",
       "9             GO_EXTRACELLULAR_STRUCTURE_ORGANIZATION  1.318490    38\n",
       "10                             GO_CILIUM_ORGANIZATION -1.504801    44\n",
       "11   GO_ESTABLISHMENT_OR_MAINTENANCE_OF_CELL_POLARITY -1.487616    32\n",
       "12                        GO_CELL_PROJECTION_ASSEMBLY -1.395194    71\n",
       "13                   GO_EPITHELIAL_TUBE_MORPHOGENESIS -0.953719    41\n",
       "14               GO_SUPRAMOLECULAR_FIBER_ORGANIZATION -0.919405    90\n",
       "15  GO_REGULATION_OF_MICROTUBULE_POLYMERIZATION_OR... -0.676635    17\n",
       "16                     GO_ACTIN_FILAMENT_ORGANIZATION -0.956936    52\n",
       "17  GO_MICROTUBULE_POLYMERIZATION_OR_DEPOLYMERIZATION -1.304471    24\n",
       "18                    GO_ACTIN_FILAMENT_BASED_PROCESS -0.950535    85\n",
       "19      GO_REGULATION_OF_ACTIN_FILAMENT_BASED_PROCESS -0.973832    53\n",
       "20         GO_REGULATION_OF_CYTOSKELETON_ORGANIZATION -1.900210    93\n",
       "21  GO_POSITIVE_REGULATION_OF_CYTOSKELETON_ORGANIZ... -0.827800    34\n",
       "22           GO_ESTABLISHMENT_OF_LOCALIZATION_IN_CELL -1.719397    84\n",
       "23                           GO_MEMBRANE_ORGANIZATION -0.998247    87"
      ]
     },
     "execution_count": 6,
     "metadata": {},
     "output_type": "execute_result"
    }
   ],
   "source": [
    "enrich_600_150d6"
   ]
  },
  {
   "cell_type": "code",
   "execution_count": 7,
   "id": "6d2d60c6",
   "metadata": {},
   "outputs": [
    {
     "data": {
      "text/plain": [
       "18                         Actin filament based process\n",
       "16                          Actin filament organization\n",
       "8                                   Biological adhesion\n",
       "3                                    Cell cell adhesion\n",
       "6                       Cell cell junction organization\n",
       "7                                Cell junction assembly\n",
       "5                            Cell junction organization\n",
       "12                             Cell projection assembly\n",
       "10                                  Cilium organization\n",
       "1                  Epithelial to mesenchymal transition\n",
       "13                        Epithelial tube morphogenesis\n",
       "22                Establishment of localization in cell\n",
       "11        Establishment or maintenance of cell polarity\n",
       "9                  Extracellular structure organization\n",
       "23                                Membrane organization\n",
       "17       Microtubule polymerization or depolymerization\n",
       "4             Negative regulation of cell cell adhesion\n",
       "21     Positive regulation of cytoskeleton organization\n",
       "0                     Positive regulation of locomotion\n",
       "19           Regulation of actin filament based process\n",
       "2                Regulation of cell projection assembly\n",
       "20              Regulation of cytoskeleton organization\n",
       "15    Regulation of microtubule polymerization or de...\n",
       "14                    Supramolecular fiber organization\n",
       "Name: 600D6 vs 150D6, dtype: object"
      ]
     },
     "execution_count": 7,
     "metadata": {},
     "output_type": "execute_result"
    }
   ],
   "source": [
    "go_terms_600 = enrich_600_150d6[\"600D6 vs 150D6\"].str[3:]\n",
    "go_terms_600 = go_terms_600.str.replace(\"_\", \" \", regex=False)\n",
    "go_terms_600 = go_terms_600.str.capitalize()\n",
    "go_terms_600.sort_values()"
   ]
  },
  {
   "cell_type": "markdown",
   "id": "a36a1e37",
   "metadata": {},
   "source": [
    "The GO terms for 600 and 150CM are the same. Thus we can use only the go_terms_150.\n",
    "\n",
    "# Enrichment data 150CM"
   ]
  },
  {
   "cell_type": "code",
   "execution_count": 18,
   "id": "f905327e",
   "metadata": {},
   "outputs": [
    {
     "data": {
      "text/html": [
       "<div>\n",
       "<style scoped>\n",
       "    .dataframe tbody tr th:only-of-type {\n",
       "        vertical-align: middle;\n",
       "    }\n",
       "\n",
       "    .dataframe tbody tr th {\n",
       "        vertical-align: top;\n",
       "    }\n",
       "\n",
       "    .dataframe thead th {\n",
       "        text-align: right;\n",
       "    }\n",
       "</style>\n",
       "<table border=\"1\" class=\"dataframe\">\n",
       "  <thead>\n",
       "    <tr style=\"text-align: right;\">\n",
       "      <th></th>\n",
       "      <th>150CM vs 150D6</th>\n",
       "      <th>NES</th>\n",
       "      <th>Size</th>\n",
       "    </tr>\n",
       "  </thead>\n",
       "  <tbody>\n",
       "    <tr>\n",
       "      <th>0</th>\n",
       "      <td>Positive regulation of cytoskeleton organization</td>\n",
       "      <td>1.701487</td>\n",
       "      <td>5</td>\n",
       "    </tr>\n",
       "    <tr>\n",
       "      <th>1</th>\n",
       "      <td>Actin filament organization</td>\n",
       "      <td>1.654707</td>\n",
       "      <td>6</td>\n",
       "    </tr>\n",
       "    <tr>\n",
       "      <th>2</th>\n",
       "      <td>Supramolecular fiber organization</td>\n",
       "      <td>1.161885</td>\n",
       "      <td>23</td>\n",
       "    </tr>\n",
       "  </tbody>\n",
       "</table>\n",
       "</div>"
      ],
      "text/plain": [
       "                                     150CM vs 150D6       NES  Size\n",
       "0  Positive regulation of cytoskeleton organization  1.701487     5\n",
       "1                       Actin filament organization  1.654707     6\n",
       "2                 Supramolecular fiber organization  1.161885    23"
      ]
     },
     "execution_count": 18,
     "metadata": {},
     "output_type": "execute_result"
    }
   ],
   "source": [
    "go_terms = go_terms_150\n",
    "\n",
    "# Obtain the selected condition\n",
    "enrich_150cm_150d6[\"150CM vs 150D6\"] = go_terms\n",
    "enrich_150cm_150d6.sort_values(by=\"NES\", ascending=False, inplace = True)\n",
    "enrich_150cm_150d6.head(3)"
   ]
  },
  {
   "cell_type": "code",
   "execution_count": 19,
   "id": "5f6c352d",
   "metadata": {},
   "outputs": [
    {
     "data": {
      "text/plain": [
       "'150CM vs 150D6'"
      ]
     },
     "execution_count": 19,
     "metadata": {},
     "output_type": "execute_result"
    }
   ],
   "source": [
    "enrich_150cm_150d6.columns[0]"
   ]
  },
  {
   "cell_type": "markdown",
   "id": "d166950d",
   "metadata": {},
   "source": [
    "# Enrichment data 600"
   ]
  },
  {
   "cell_type": "code",
   "execution_count": 20,
   "id": "ee74bbce",
   "metadata": {},
   "outputs": [
    {
     "data": {
      "text/html": [
       "<div>\n",
       "<style scoped>\n",
       "    .dataframe tbody tr th:only-of-type {\n",
       "        vertical-align: middle;\n",
       "    }\n",
       "\n",
       "    .dataframe tbody tr th {\n",
       "        vertical-align: top;\n",
       "    }\n",
       "\n",
       "    .dataframe thead th {\n",
       "        text-align: right;\n",
       "    }\n",
       "</style>\n",
       "<table border=\"1\" class=\"dataframe\">\n",
       "  <thead>\n",
       "    <tr style=\"text-align: right;\">\n",
       "      <th></th>\n",
       "      <th>600D6 vs 150D6</th>\n",
       "      <th>NES</th>\n",
       "      <th>Size</th>\n",
       "    </tr>\n",
       "  </thead>\n",
       "  <tbody>\n",
       "    <tr>\n",
       "      <th>4</th>\n",
       "      <td>Negative regulation of cell cell adhesion</td>\n",
       "      <td>2.194488</td>\n",
       "      <td>19</td>\n",
       "    </tr>\n",
       "    <tr>\n",
       "      <th>8</th>\n",
       "      <td>Biological adhesion</td>\n",
       "      <td>2.023021</td>\n",
       "      <td>131</td>\n",
       "    </tr>\n",
       "    <tr>\n",
       "      <th>0</th>\n",
       "      <td>Positive regulation of locomotion</td>\n",
       "      <td>1.990480</td>\n",
       "      <td>66</td>\n",
       "    </tr>\n",
       "  </tbody>\n",
       "</table>\n",
       "</div>"
      ],
      "text/plain": [
       "                              600D6 vs 150D6       NES  Size\n",
       "4  Negative regulation of cell cell adhesion  2.194488    19\n",
       "8                        Biological adhesion  2.023021   131\n",
       "0          Positive regulation of locomotion  1.990480    66"
      ]
     },
     "execution_count": 20,
     "metadata": {},
     "output_type": "execute_result"
    }
   ],
   "source": [
    "go_terms = go_terms_600\n",
    "\n",
    "enrich_600_150d6[\"600D6 vs 150D6\"] = go_terms\n",
    "enrich_600_150d6.sort_values(by=\"NES\", ascending=False, inplace = True)\n",
    "enrich_600_150d6.head(3)"
   ]
  },
  {
   "cell_type": "code",
   "execution_count": 21,
   "id": "10908a7d",
   "metadata": {},
   "outputs": [
    {
     "data": {
      "text/plain": [
       "(24, 3)"
      ]
     },
     "execution_count": 21,
     "metadata": {},
     "output_type": "execute_result"
    }
   ],
   "source": [
    "enrich_600_150d6.shape"
   ]
  },
  {
   "cell_type": "code",
   "execution_count": 22,
   "id": "5624e167",
   "metadata": {},
   "outputs": [
    {
     "data": {
      "text/plain": [
       "'600D6 vs 150D6'"
      ]
     },
     "execution_count": 22,
     "metadata": {},
     "output_type": "execute_result"
    }
   ],
   "source": [
    "enrich_600_150d6.columns[0]"
   ]
  },
  {
   "cell_type": "markdown",
   "id": "ce524e2b",
   "metadata": {},
   "source": [
    "# Merge 150 and 600 data"
   ]
  },
  {
   "cell_type": "code",
   "execution_count": 23,
   "id": "ea1e347b",
   "metadata": {},
   "outputs": [],
   "source": [
    "enrich_600_150cm = pd.merge(\n",
    "    left = enrich_600_150d6, \n",
    "    right = enrich_150cm_150d6, \n",
    "    left_on = \"600D6 vs 150D6\",\n",
    "    right_on = \"150CM vs 150D6\", \n",
    "    how = \"outer\"\n",
    ")"
   ]
  },
  {
   "cell_type": "code",
   "execution_count": 24,
   "id": "bebed2f7",
   "metadata": {},
   "outputs": [
    {
     "data": {
      "text/plain": [
       "(24, 6)"
      ]
     },
     "execution_count": 24,
     "metadata": {},
     "output_type": "execute_result"
    }
   ],
   "source": [
    "enrich_600_150cm.shape"
   ]
  },
  {
   "cell_type": "code",
   "execution_count": 26,
   "id": "190ccea0",
   "metadata": {},
   "outputs": [
    {
     "data": {
      "text/html": [
       "<div>\n",
       "<style scoped>\n",
       "    .dataframe tbody tr th:only-of-type {\n",
       "        vertical-align: middle;\n",
       "    }\n",
       "\n",
       "    .dataframe tbody tr th {\n",
       "        vertical-align: top;\n",
       "    }\n",
       "\n",
       "    .dataframe thead th {\n",
       "        text-align: right;\n",
       "    }\n",
       "</style>\n",
       "<table border=\"1\" class=\"dataframe\">\n",
       "  <thead>\n",
       "    <tr style=\"text-align: right;\">\n",
       "      <th></th>\n",
       "      <th>600D6 vs 150D6</th>\n",
       "      <th>NES_x</th>\n",
       "      <th>Size_x</th>\n",
       "      <th>150CM vs 150D6</th>\n",
       "      <th>NES_y</th>\n",
       "      <th>Size_y</th>\n",
       "    </tr>\n",
       "  </thead>\n",
       "  <tbody>\n",
       "    <tr>\n",
       "      <th>0</th>\n",
       "      <td>Negative regulation of cell cell adhesion</td>\n",
       "      <td>2.194488</td>\n",
       "      <td>19</td>\n",
       "      <td>Negative regulation of cell cell adhesion</td>\n",
       "      <td>-0.893796</td>\n",
       "      <td>5</td>\n",
       "    </tr>\n",
       "    <tr>\n",
       "      <th>1</th>\n",
       "      <td>Biological adhesion</td>\n",
       "      <td>2.023021</td>\n",
       "      <td>131</td>\n",
       "      <td>Biological adhesion</td>\n",
       "      <td>-1.388153</td>\n",
       "      <td>32</td>\n",
       "    </tr>\n",
       "    <tr>\n",
       "      <th>2</th>\n",
       "      <td>Positive regulation of locomotion</td>\n",
       "      <td>1.990480</td>\n",
       "      <td>66</td>\n",
       "      <td>Positive regulation of locomotion</td>\n",
       "      <td>-1.124300</td>\n",
       "      <td>17</td>\n",
       "    </tr>\n",
       "    <tr>\n",
       "      <th>3</th>\n",
       "      <td>Cell cell adhesion</td>\n",
       "      <td>1.742446</td>\n",
       "      <td>70</td>\n",
       "      <td>Cell cell adhesion</td>\n",
       "      <td>-1.280338</td>\n",
       "      <td>13</td>\n",
       "    </tr>\n",
       "    <tr>\n",
       "      <th>4</th>\n",
       "      <td>Epithelial to mesenchymal transition</td>\n",
       "      <td>1.341778</td>\n",
       "      <td>17</td>\n",
       "      <td>Epithelial to mesenchymal transition</td>\n",
       "      <td>-0.987393</td>\n",
       "      <td>5</td>\n",
       "    </tr>\n",
       "  </tbody>\n",
       "</table>\n",
       "</div>"
      ],
      "text/plain": [
       "                              600D6 vs 150D6     NES_x  Size_x  \\\n",
       "0  Negative regulation of cell cell adhesion  2.194488      19   \n",
       "1                        Biological adhesion  2.023021     131   \n",
       "2          Positive regulation of locomotion  1.990480      66   \n",
       "3                         Cell cell adhesion  1.742446      70   \n",
       "4       Epithelial to mesenchymal transition  1.341778      17   \n",
       "\n",
       "                              150CM vs 150D6     NES_y  Size_y  \n",
       "0  Negative regulation of cell cell adhesion -0.893796       5  \n",
       "1                        Biological adhesion -1.388153      32  \n",
       "2          Positive regulation of locomotion -1.124300      17  \n",
       "3                         Cell cell adhesion -1.280338      13  \n",
       "4       Epithelial to mesenchymal transition -0.987393       5  "
      ]
     },
     "execution_count": 26,
     "metadata": {},
     "output_type": "execute_result"
    }
   ],
   "source": [
    "enrich_600_150cm.head()"
   ]
  },
  {
   "cell_type": "markdown",
   "id": "a6707f9e",
   "metadata": {},
   "source": [
    "# Plot bar"
   ]
  },
  {
   "cell_type": "code",
   "execution_count": 27,
   "id": "fd9d0ee8",
   "metadata": {},
   "outputs": [],
   "source": [
    "import matplotlib as mpl\n",
    "import matplotlib.cm as cm\n",
    "from matplotlib.cm import ScalarMappable\n",
    "from mpl_toolkits.axes_grid1.axes_divider import make_axes_locatable"
   ]
  },
  {
   "cell_type": "code",
   "execution_count": 160,
   "id": "27a7bbdd",
   "metadata": {},
   "outputs": [],
   "source": [
    "def draw_hbar_sharex(df_input, savefile, w=6, h=7):\n",
    "    \"\"\"\n",
    "    df_input - input dataframe.\"\"\"\n",
    "    \n",
    "    df = df_input.copy()\n",
    "    norm = mpl.colors.Normalize(vmin = -2, vmax = 2) # setting color bar scale\n",
    "    cmap = cm.bwr\n",
    "    \n",
    "    fig = plt.figure(figsize = (w, h))\n",
    "    \n",
    "    # --------------------------------------------------------------\n",
    "    ax1 = plt.subplot(121)\n",
    "    \n",
    "    y_label = df[df.columns[0]] # y axis is the first column\n",
    "    y_pos = np.arange(df.shape[0])*1.5\n",
    "    \n",
    "    x_val = df.Size_x # name \n",
    "    \n",
    "    ax1.barh(y_pos, x_val, \n",
    "             color=cmap(df.NES_x), # name\n",
    "             height=1, align = \"center\")\n",
    "    \n",
    "    for i, v in enumerate(y_pos):\n",
    "        ax1.text(x_val[i]+15, v + .25, str(round(x_val[i])), \n",
    "                color='k', fontsize=8)\n",
    "    \n",
    "    ax1.set_yticks(y_pos, labels = y_label, fontsize = 11)\n",
    "    ax1.set_xlabel(\"Number of genes\", fontsize=14)\n",
    "    ax1.set_title(\"600D6\", loc=\"right\", fontsize=14)\n",
    "    \n",
    "    ax1.margins(x = 0.3)\n",
    "    ax1.invert_yaxis()  # labels read top-to-bottom\n",
    "    ax1.invert_xaxis()\n",
    "    \n",
    "    ax1.spines['top'].set_visible(False)\n",
    "    ax1.spines['right'].set_visible(False)\n",
    "    ax1.spines['bottom'].set_visible(True)\n",
    "    ax1.spines['left'].set_visible(True)\n",
    "    \n",
    "    #-----------------------------------------------------------\n",
    "    \n",
    "    ax2 = plt.subplot(122, sharey=ax1)\n",
    "    \n",
    "    y_label = df[df.columns[0]] # y axis is the first column\n",
    "    y_pos = np.arange(df.shape[0])*1.5\n",
    "    \n",
    "    x_val = df.Size_y # name \n",
    "    \n",
    "    ax2.barh(y_pos, x_val, \n",
    "             color=cmap(df.NES_y), # name\n",
    "             height=1, align = \"center\")\n",
    "    \n",
    "    for i, v in enumerate(y_pos):\n",
    "        ax2.text(x_val[i]+0.3, v + .25, str(round(x_val[i])), \n",
    "                color='k', fontsize=8)\n",
    "    \n",
    "    ax2.margins(x = 0.3)\n",
    "    \n",
    "    ax2.axes.yaxis.set_visible(False)\n",
    "    ax2.set_xlabel(\"Number of genes\", fontsize=14)\n",
    "    ax2.set_title(\"150CM\", loc=\"right\", fontsize=14)\n",
    "    \n",
    "    ax2.spines['top'].set_visible(False)\n",
    "    ax2.spines['right'].set_visible(False)\n",
    "    ax2.spines['bottom'].set_visible(True)\n",
    "    ax2.spines['left'].set_visible(False)\n",
    "    \n",
    "    # colorbar\n",
    "    sm = ScalarMappable(cmap=cmap, norm=norm)\n",
    "    sm.set_array([]) \n",
    "    divider = make_axes_locatable(ax2)\n",
    "    cax = divider.append_axes(\"right\", size=\"7%\", pad=0.15)\n",
    "    cbar = plt.colorbar(sm, cax = cax)\n",
    "    cbar.set_label('NES', rotation=270, labelpad=9)\n",
    "    cbar.outline.set_visible(False)\n",
    "    \n",
    "    plt.savefig(savefile, dpi = 200, bbox_inches = \"tight\")\n",
    "\n",
    "    plt.show()\n",
    "    \n",
    "    plt.clf()\n",
    "    "
   ]
  },
  {
   "cell_type": "code",
   "execution_count": 161,
   "id": "0b64d790",
   "metadata": {},
   "outputs": [
    {
     "data": {
      "image/png": "[encoded data removed]",
      "text/plain": [
       "<Figure size 504x504 with 3 Axes>"
      ]
     },
     "metadata": {
      "needs_background": "light"
     },
     "output_type": "display_data"
    },
    {
     "data": {
      "text/plain": [
       "<Figure size 432x288 with 0 Axes>"
      ]
     },
     "metadata": {},
     "output_type": "display_data"
    }
   ],
   "source": [
    "draw_hbar_sharex(enrich_600_150cm, \"Paired_bar.png\",7,7)\n"
   ]
  },
  {
   "cell_type": "code",
   "execution_count": null,
   "id": "38ac36c5",
   "metadata": {},
   "outputs": [],
   "source": [
    "def draw_hbar(df_input, w = 7, h = 5):\n",
    "    \"\"\"\n",
    "    df_input - input dataframe, including column go terms, NES and Size\"\"\"\n",
    "    \n",
    "    df = df_input.copy()\n",
    "    norm = mpl.colors.Normalize(vmin = -2, vmax = 2)\n",
    "    cmap = cm.bwr\n",
    "    \n",
    "    df.loc[df.NES<0,\"Size\"] = df[df.NES<0].Size*(-1.)\n",
    "    \n",
    "    fig = plt.figure(figsize=(w, h))\n",
    "    ax = plt.subplot(111)\n",
    "    \n",
    "    y_label = df[df.columns[0]]\n",
    "    y_pos = np.arange(df.shape[0])*1.5\n",
    "    \n",
    "    x_val = df.Size\n",
    "    \n",
    "#     print(df.NES)\n",
    "    \n",
    "    ax.barh(y_pos, x_val, \n",
    "            color=cmap(df.NES),\n",
    "            height=1, align = \"center\")\n",
    "    \n",
    "    for i, v in enumerate(y_pos):\n",
    "        if x_val[i]>0:\n",
    "            ax.text(x_val[i]+1, v + .25, str(round(x_val[i])), \n",
    "                    color='k', fontsize=8)\n",
    "        if x_val[i]<0:\n",
    "            ax.text(x_val[i]-6, v + .25, str(round(x_val[i]*(-1.))), \n",
    "                    color='k', fontsize=8)\n",
    "    \n",
    "    # colorbar\n",
    "    sm = ScalarMappable(cmap=cmap, norm=norm)\n",
    "    sm.set_array([]) \n",
    "    divider = make_axes_locatable(ax)\n",
    "    cax = divider.append_axes(\"right\", size=\"5%\", pad=0.15)\n",
    "    cbar = plt.colorbar(sm, cax = cax)\n",
    "    cbar.set_label('NES', rotation=270, labelpad=9)\n",
    "    cbar.outline.set_visible(False)\n",
    "\n",
    "    ax.set_yticks(y_pos, labels = y_label, fontsize = 9)\n",
    "    ax.set_xlabel(\"Gene number\")\n",
    "    ax.set_xlim([-39,30])\n",
    "    \n",
    "    ax.invert_yaxis()  # labels read top-to-bottom\n",
    "    \n",
    "    ax.spines['top'].set_visible(False)\n",
    "    ax.spines['right'].set_visible(False)\n",
    "    ax.spines['bottom'].set_visible(True)\n",
    "    ax.spines['left'].set_visible(True)\n",
    "    \n",
    "#     ax.set_aspect(2)\n",
    "    \n",
    "    plt.tight_layout()\n",
    "#     plt.show()\n",
    "    plt.savefig(\"GO enrichment.png\", dpi=200)\n",
    "    \n",
    "draw_hbar(enrich_150cm_150d6)"
   ]
  }
 ],
 "metadata": {
  "kernelspec": {
   "display_name": "Python 3 (ipykernel)",
   "language": "python",
   "name": "python3"
  },
  "language_info": {
   "codemirror_mode": {
    "name": "ipython",
    "version": 3
   },
   "file_extension": ".py",
   "mimetype": "text/x-python",
   "name": "python",
   "nbconvert_exporter": "python",
   "pygments_lexer": "ipython3",
   "version": "3.8.12"
  }
 },
 "nbformat": 4,
 "nbformat_minor": 5
}
