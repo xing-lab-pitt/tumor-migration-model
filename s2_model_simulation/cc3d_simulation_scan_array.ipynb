{
 "cells": [
  {
   "cell_type": "markdown",
   "id": "a05a76bc",
   "metadata": {},
   "source": [
    "### Note:\n",
    "\n",
    "This is the code for running CompuCell3D model parameter scans on the cluster.\n",
    "\n",
    "To use this code, you may need to adapt the model path and software paths."
   ]
  },
  {
   "cell_type": "code",
   "execution_count": 1,
   "id": "b2e928b4",
   "metadata": {},
   "outputs": [],
   "source": [
    "import numpy as np\n",
    "import sys\n",
    "from datetime import datetime\n",
    "import subprocess\n",
    "import os\n",
    "\n",
    "import pipe_util2"
   ]
  },
  {
   "cell_type": "code",
   "execution_count": 2,
   "id": "40a0d198",
   "metadata": {},
   "outputs": [],
   "source": [
    "# set the CompuCell3D software path\n",
    "cc3d_param_scan_path = \"path/to/CC3D_4.2.5_ubuntu_18.04_64bit/paramScan.sh\"\n",
    "install_path = \"path/to/CC3D_4.2.5_ubuntu_18.04_64bit/lib/site-packages/cc3d\""
   ]
  },
  {
   "cell_type": "code",
   "execution_count": 11,
   "id": "0ba5051c",
   "metadata": {},
   "outputs": [],
   "source": [
    "def parameter_txt(rep, param_folder, scan_num, \n",
    "                  cc3d_param_scan_path, input_path, output_path, install_dir\n",
    "                 ):\n",
    "    \"\"\"\n",
    "    Creating parameter files in designated folders\n",
    "    that can be later called in sbatch array.\n",
    "\n",
    "    rep - int, number of repeat for each parameter combinations\n",
    "    param_folder - str, path to folder that save parameter files\n",
    "    scan_num - int, indexing parameter scans\n",
    "    cc3d_param_scan_path - int, CompuCell3D parameter scan script path\n",
    "    input_path - str, path to model .cc3d file\n",
    "    output_path - str, path to a folder that save simulation results\n",
    "    install_dir - str, CompuCell3D software path\n",
    "\n",
    "    return - int, the number of parameter files generated\n",
    "    \"\"\"\n",
    "    param_folder = pipe_util2.folder_verify(param_folder)\n",
    "    \n",
    "    i = 0\n",
    "    while i<rep*scan_num:\n",
    "        \n",
    "        j = 0\n",
    "        while j<rep:\n",
    "            output_path = pipe_util2.folder_verify(output_path)\n",
    "            o_path = output_path+\"rep%s/\"%str(j).zfill(2)\n",
    "            pipe_util2.create_folder(o_path)\n",
    "            \n",
    "            k = 0\n",
    "            while k<scan_num:\n",
    "                \n",
    "                file_num = str(i)\n",
    "                f = open(param_folder+file_num+\".p\", \"w\")\n",
    "\n",
    "                line = \"%s --input=%s --output-dir=%s --install-dir=%s\"%(\n",
    "                    cc3d_param_scan_path, input_path, o_path, install_dir\n",
    "                )\n",
    "                f.write(line)\n",
    "                f.close()\n",
    "                \n",
    "                i = i+1\n",
    "                k = k+1\n",
    "            j = j+1\n",
    "    return i-1"
   ]
  },
  {
   "cell_type": "code",
   "execution_count": 9,
   "id": "d323a6c4",
   "metadata": {},
   "outputs": [],
   "source": [
    "def sbatch_file_polarity_sim(\n",
    "    param_folder, scr_folder, name = None):\n",
    "    \"\"\"\n",
    "    This function is to generate the sbatch file,\n",
    "    facilitating submitting simulation jobs to the cluster. \n",
    "\n",
    "    param_folder - str, path to folder for storing parameter files.\n",
    "    scr_folder - str, path to folder for storing both script .sh files and the output .o files.\n",
    "    name - str, simulation name\n",
    "    \"\"\"\n",
    "    \n",
    "    now = datetime.now()\n",
    "    dt_string = now.strftime(\"%d-%m-%Y-%H%M\")\n",
    "    scr_folder = pipe_util2.folder_verify(scr_folder)\n",
    "    param_folder = pipe_util2.folder_verify(param_folder)\n",
    "    \n",
    "    if name:\n",
    "        ofile_name = scr_folder + dt_string + \"polarity_sim_\" + name + \".o\"\n",
    "        sfile_name = scr_folder + dt_string + \"polarity_sim_\" + name + \".sh\"\n",
    "        \n",
    "    else:\n",
    "        ofile_name = scr_folder + dt_string + \"polarity_sim\" + \".o\"\n",
    "        sfile_name = scr_folder + dt_string + \"polarity_sim\" + \".sh\"\n",
    "    \n",
    "    ofile_name = os.path.abspath(ofile_name)\n",
    "    sfile_name = os.path.abspath(sfile_name)\n",
    "    \n",
    "    contents = \"\"\"#!/bin/bash\n",
    "#SBATCH --account=user\n",
    "#SBATCH --partition=dept_cpu\n",
    "#SBATCH --cpus-per-task=1\n",
    "#SBATCH --mem=4G\n",
    "#SBATCH --output=%s%s_%s.o\n",
    "#SBATCH --job-name=potts_scan\n",
    "\n",
    "bash %s$SLURM_ARRAY_TASK_ID.p\n",
    "    \"\"\"%(scr_folder, \"%A\", \"%a\", param_folder)\n",
    "    s = open(sfile_name, \"w\")\n",
    "    s.write(contents)\n",
    "    s.close()\n",
    "    \n",
    "    return sfile_name"
   ]
  },
  {
   "cell_type": "markdown",
   "id": "4290896b",
   "metadata": {},
   "source": [
    "# 12222021_force_fpp_scan"
   ]
  },
  {
   "cell_type": "code",
   "execution_count": null,
   "id": "45e0371b",
   "metadata": {
    "scrolled": true
   },
   "outputs": [],
   "source": [
    "rep = 50\n",
    "scan_num = 231\n",
    "param_folder = \"path/to/param_folder\"\n",
    "pipe_util2.create_folder(param_folder)\n",
    "\n",
    "script_folder = \"path/to/script_folder\"\n",
    "pipe_util2.create_folder(script_folder)\n",
    "\n",
    "out_dir = \"path/to/simulation/output/folder/CC3D_data_12222021_force_fpp_scan/\"\n",
    "pipe_util2.create_folder(out_dir)\n",
    "\n",
    "input_path = \"path/to/model/12222021_force_fpp_scan/force_fpp_gl.cc3d\"\n",
    "\n",
    "jobmax_num = parameter_txt(rep, param_folder, scan_num, \n",
    "              cc3d_param_scan_path, input_path, out_dir, install_path)\n",
    "sbatch_file = sbatch_file_polarity_sim(os.path.abspath(param_folder), os.path.abspath(script_folder))\n",
    "\n",
    "batch_size = 800\n",
    "if jobmax_num<batch_size:\n",
    "    batch_size = jobmax_num+1\n",
    "batch_size = \"%\"+\"%s\"%batch_size\n",
    "cmd = \"sbatch --array=[0-%s]%s %s\"%(jobmax_num, batch_size, sbatch_file)\n",
    "subprocess.call(cmd, shell=True) # submit sbtach job to cluster.\n",
    "cmd"
   ]
  }
 ],
 "metadata": {
  "kernelspec": {
   "display_name": "Python [conda env:.conda-mg1]",
   "language": "python",
   "name": "conda-env-.conda-mg1-py"
  },
  "language_info": {
   "codemirror_mode": {
    "name": "ipython",
    "version": 3
   },
   "file_extension": ".py",
   "mimetype": "text/x-python",
   "name": "python",
   "nbconvert_exporter": "python",
   "pygments_lexer": "ipython3",
   "version": "3.8.8"
  }
 },
 "nbformat": 4,
 "nbformat_minor": 5
}
